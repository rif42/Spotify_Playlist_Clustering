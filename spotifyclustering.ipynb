{
 "cells": [
  {
   "attachments": {},
   "cell_type": "markdown",
   "metadata": {},
   "source": [
    "# Pembuatan Dataset Menggunakan Spotify Web API\n",
    "Laporan MBKM Bengkel Koding  \n",
    "Rifky Ariya Pratama  \n",
    "A11.2020.12628"
   ]
  },
  {
   "cell_type": "code",
   "execution_count": 3,
   "metadata": {},
   "outputs": [
    {
     "data": {
      "text/plain": [
       "'BQABQX6qcjhpsln6-iGF4mRwFGjr5vDJ6s8SNY9P585NYCrNh3rhu4dL4HJ8muIyszbpOFMODAKyYpkUrmB55LfQDhlUZZri6Wpu3t75e7YMKQ6ZQ5I'"
      ]
     },
     "execution_count": 3,
     "metadata": {},
     "output_type": "execute_result"
    }
   ],
   "source": [
    "# reference : https://www.youtube.com/watch?v=WAmEZBEeNmg\n",
    "\n",
    "import streamlit as st\n",
    "import pandas as pd\n",
    "import numpy as np\n",
    "from sklearn.cluster import KMeans\n",
    "from sklearn.decomposition import PCA\n",
    "import plotly.express as px\n",
    "import base64\n",
    "from requests import post, get\n",
    "import json\n",
    "import csv\n",
    "from sklearn import preprocessing\n",
    "\n",
    "client_id = '97aeaf1e98f943edb1344ab86f71692a'\n",
    "client_secret = '9f35e123caa7490b904ad6bcb98f4ba9'\n",
    "playlistId = '1dtCMTYzAOzwKXqklxPJNS'\n",
    "\n",
    "# 37i9dQZF1DXbrUpGvoi3TS - 1(similar sad songs)\n",
    "# 1dtCMTYzAOzwKXqklxPJNS - 2(old songs, rock, rap)\n",
    "# 0IN7IWKmIfwlEysGyWUuRg - 3(mix of modern electronic, pop, and rock)\n",
    "\n",
    "dataset = []\n",
    "dataset2 = []\n",
    "dataset3 = []\n",
    "\n",
    "def getToken():\n",
    "    # gabungkan client_id dan client_secret\n",
    "    auth_string = client_id + ':' + client_secret\n",
    "\n",
    "    # encode ke base64\n",
    "    auth_b64 = base64.b64encode(auth_string.encode('utf-8'))\n",
    "\n",
    "    # url untuk mengambil token\n",
    "    url = 'https://accounts.spotify.com/api/token'\n",
    "\n",
    "    # header untuk mengambil token - sesuai dengan guide dari spotify\n",
    "    headers = {\n",
    "        'Authorization': 'Basic ' + auth_b64.decode('utf-8'),\n",
    "        'Content-Type': 'application/x-www-form-urlencoded'\n",
    "    }\n",
    "\n",
    "    # data untuk mengambil token - sesuai dengan guide dari spotify\n",
    "    data = {'grant_type': 'client_credentials'}\n",
    "\n",
    "    # kirim request POST ke spotify\n",
    "    result = post(url, headers=headers, data=data)\n",
    "\n",
    "    # parse response ke json\n",
    "    json_result = json.loads(result.content)\n",
    "    token = json_result['access_token']\n",
    "\n",
    "    # ambil token untuk akses API\n",
    "    return token\n",
    "\n",
    "# panggil fungsi getToken()\n",
    "getToken()"
   ]
  },
  {
   "cell_type": "code",
   "execution_count": 4,
   "metadata": {},
   "outputs": [
    {
     "name": "stdout",
     "output_type": "stream",
     "text": [
      "access token : BQDxuk_MOvO6ktskHNRRmtwM2vB9H5VUCrAGwm7NYgRpfZHjXkoJd1fP530wf0lOPc9zweU7f74MoMgW2FcN-dNQaHPiaKnpNCwYLsJeKmAHhrsjyAM\n",
      "dataset.csv created\n"
     ]
    }
   ],
   "source": [
    "# pengambilan token untuk otorisasi API\n",
    "def getAuthHeader(token):\n",
    "    return {'Authorization': 'Bearer ' + token}\n",
    "\n",
    "# pengambilan audio features dari track (lagu)\n",
    "def getAudioFeatures(token, trackId):\n",
    "    url = f'https://api.spotify.com/v1/audio-features/{trackId}' # endpoint untuk akses playlist\n",
    "    headers = getAuthHeader(token) # ambil token untuk otorisasi, gunakan sebagai header\n",
    "    result = get(url, headers=headers) # kirim request GET ke spotify\n",
    "    json_result = json.loads(result.content) # parse response ke json\n",
    "\n",
    "    # ambil data yang diperlukan dari response\n",
    "    audio_features_temp = [ \n",
    "        json_result['danceability'],\n",
    "        json_result['energy'],\n",
    "        json_result['key'],\n",
    "        json_result['loudness'],\n",
    "        json_result['mode'],\n",
    "        json_result['speechiness'],\n",
    "        json_result['acousticness'],\n",
    "        json_result['instrumentalness'],\n",
    "        json_result['liveness'],\n",
    "        json_result['valence'],\n",
    "        json_result['tempo'],\n",
    "    ]\n",
    "    dataset2.append(audio_features_temp)\n",
    "\n",
    "# pengambilan track (lagu) dari playlist\n",
    "def getPlaylistItems(token, playlistId):\n",
    "    url = f'https://api.spotify.com/v1/playlists/{playlistId}/tracks' # endpoint untuk akses playlist\n",
    "    limit = '&limit=100' # batas maksimal track yang diambil\n",
    "    market = '?market=ID' # negara yang tempat aplikasi diakses\n",
    "    fields = '&fields=items%28track%28id%2Cname%2Cartists%2Cpopularity%2C+duration_ms%2C+album%28release_date%29%29%29' # format data dari track yang diambil\n",
    "    url = url+market+fields+limit # gabungkan semua parameter\n",
    "    headers = getAuthHeader(token) # ambil token untuk otorisasi, gunakan sebagai header\n",
    "    result = get(url, headers=headers) # kirim request GET ke spotify\n",
    "    json_result = json.loads(result.content) # parse response ke json\n",
    "    # print(json_result)\n",
    "\n",
    "    # ambil data yang diperlukan dari response\n",
    "    for i in range(len(json_result['items'])):\n",
    "        playlist_items_temp = []\n",
    "        playlist_items_temp.append(json_result['items'][i]['track']['id'])\n",
    "        playlist_items_temp.append(\n",
    "            json_result['items'][i]['track']['name'].encode('utf-8'))\n",
    "        playlist_items_temp.append(\n",
    "            json_result['items'][i]['track']['artists'][0]['name'].encode('utf-8'))\n",
    "        playlist_items_temp.append(\n",
    "            json_result['items'][i]['track']['popularity'])\n",
    "        playlist_items_temp.append(\n",
    "            json_result['items'][i]['track']['duration_ms'])\n",
    "        playlist_items_temp.append(\n",
    "            int(json_result['items'][i]['track']['album']['release_date'][0:4]))\n",
    "        dataset.append(playlist_items_temp)\n",
    "\n",
    "    # ambil audio features dari semua track di dalam playlist\n",
    "    for i in range(len(dataset)):\n",
    "        getAudioFeatures(token, dataset[i][0])\n",
    "\n",
    "    # gabungkan dataset dan dataset2\n",
    "    for i in range(len(dataset)):\n",
    "        dataset3.append(dataset[i]+dataset2[i])\n",
    "\n",
    "    # convert dataset3 into csv\n",
    "    with open('dataset.csv', 'w', newline='') as file:\n",
    "        writer = csv.writer(file)\n",
    "        writer.writerow([\"id\", \"name\", \"artist\", \"popularity\", \"duration_ms\", \"year\", \"danceability\", \"energy\", \"key\", \"loudness\", \"mode\",\n",
    "                         \"speechiness\", \"acousticness\", \"instrumentalness\", \"liveness\", \"valence\", \"tempo\"])\n",
    "        writer.writerows(dataset3)\n",
    "\n",
    "    print('dataset.csv created')\n",
    "\n",
    "\n",
    "token = getToken()\n",
    "print('access token : '+token)\n",
    "\n",
    "getPlaylistItems(token, playlistId)\n",
    "\n",
    "# id, name, artist, popularity, duration_ms, year, danceability, energy, key, loudness, mode, speechiness, acousticness, instrumentalness, liveness, valence, tempo"
   ]
  },
  {
   "attachments": {},
   "cell_type": "markdown",
   "metadata": {},
   "source": [
    "# Data Preprocessing\n",
    "\n",
    "### Data Understanding\n",
    "\n",
    "Berikut adalah dataset yang digunakan untuk analisis ini. Dataset ini berisi data lagu-lagu yang ada di Spotify. Dataset ini terdiri dari 19 fitur, yaitu:\n",
    "1. `name` : Nama lagu\n",
    "2. `artists` : Nama artis pembuat lagu\n",
    "3. `year` : Tahun rilis lagu\n",
    "4. `popularity` : Tingkat popularitas lagu. Nilai popularitas adalah antara 0 dan 100, dengan 100 menjadi nilai maksimal.\n",
    "5. `key` : adalah kunci lagu dari lagu tersebut. kunci lagu direpresentasikan menggunakan angka menurut Pitch Class Notation Standard. Misalnya, 0 = C, 1 = C♯/D♭, 2 = D, dan seterusnya. Jika tidak ada kunci, maka nilai -1.\n",
    "6. `mode` : Mode dari lagu tersebut. 1 = Major, 0 = Minor.\n",
    "7. `explicit` : Lagu tersebut mengandung konten eksplisit atau tidak. 1 = Ya, 0 = Tidak.\n",
    "8. `duration_ms` : Durasi lagu dalam milidetik.\n",
    "9. `acousticness` : Tingkat intensitas akustik di dalam lagu tersebut. 0.0 = Lagu tersebut tidak akustik, 1.0 = Lagu tersebut sangat akustik.\n",
    "10. `danceability` : Seberapa cocok lagu tersebut untuk mengiringi tarian. Nilai diambil berdasarkan kombinasi dari beberapa elemen lain seperti tempo, stabilitas ritme, kekuatan ritme, dan reguleritas umum. 0.0 = Lagu tersebut tidak cocok untuk mengiringi tarian, 1.0 = Lagu tersebut sangat cocok untuk mengiringi tarian.\n",
    "11. `energy` : Energi adalah ukuran dari 0.0 hingga 1.0 dan mewakili ukuran perseptual dari intensitas dan aktivitas. Secara umum, lagu-lagu yang energik terasa cepat, keras, dan berisik. Sebagai contoh, death metal memiliki energi yang tinggi, sementara prelude Bach memiliki skor rendah dalam skala tersebut. Fitur perseptual yang berkontribusi pada atribut ini termasuk rentang dinamis, kebisingan terdengar, timbre, tingkat onset, dan entropi umum.\n",
    "12. `instrumentalness` : Memprediksi apakah sebuah lagu tidak mengandung vokal. Suara \"ooh\" dan \"aah\" diperlakukan sebagai instrumen dalam konteks ini. Lagu rap atau spoken word secara jelas dianggap \"vokal\". Semakin mendekati nilai instrumentalness ke 1.0, semakin besar kemungkinan lagu tersebut tidak mengandung konten vokal. Nilai di atas 0.5 dimaksudkan untuk mewakili lagu instrumental, namun tingkat kepercayaan lebih tinggi saat nilai mendekati 1.0.\n",
    "13. `loudness` : Kekuatan suara keseluruhan dari sebuah lagu dalam desibel (dB). Nilai kekuatan suara dihitung rata-rata sepanjang seluruh lagu dan bermanfaat untuk membandingkan kekuatan suara relatif antara lagu-lagu. Kekuatan suara adalah kualitas dari suara yang merupakan korelasi psikologis utama dari kekuatan fisik (amplitudo). Nilai-nilai biasanya berkisar antara -60 hingga 0 dB.\n",
    "14. `liveness` : Mendeteksi keberadaan penonton dalam rekaman. Nilai liveness yang lebih tinggi mengindikasikan probabilitas yang lebih besar bahwa lagu tersebut dipentaskan secara langsung. Nilai di atas 0.8 memberikan kemungkinan kuat bahwa lagu tersebut dinyanyikan secara langsung.\n",
    "15. `speechiness` : Speechiness mendeteksi keberadaan kata-kata yang diucapkan dalam sebuah lagu. Semakin mirip rekaman tersebut dengan ucapan (misalnya, acara talk show, buku audio, puisi), semakin mendekati nilai atribut 1.0. Nilai di atas 0.66 menggambarkan lagu yang kemungkinan terdiri sepenuhnya dari kata-kata yang diucapkan. Nilai antara 0.33 dan 0.66 menggambarkan lagu yang mungkin mengandung baik musik maupun ucapan, baik dalam bagian-bagian atau lapisan, termasuk dalam kasus seperti musik rap. Nilai di bawah 0.33 kemungkinan besar mewakili musik dan lagu-lagu yang tidak mirip dengan ucapan.\n",
    "16. `tempo` : Rata rata kecepatan atau tempo dari sebuah lagu, diukur menggunakan beats (ketukan) per minute (BPM).\n",
    "17. `valence` : Nilai antara 0-1 yang mendeskripsikan 'mood' dari sebuah lagu. Nilai yang kecil menandakan bahwa lagu mempunyai mood sedih, marah, depresi. Nilai yang besar menandakan lagu mempunyai mood yang senang, riang, euforia.\n",
    "\n",
    "sumber : https://developer.spotify.com/documentation/web-api/reference/get-several-audio-features\n",
    "\n",
    "### Load Data\n",
    "Ketika cell diatas dijalankan, sebuah file csv bernama dataset.csv akan muncul. File ini berisi dataset yang akan kita olah. Muat dataset menggunakan dataframe dan check apakah dataset sudah benar."
   ]
  },
  {
   "cell_type": "code",
   "execution_count": 5,
   "metadata": {},
   "outputs": [
    {
     "data": {
      "text/html": [
       "<div>\n",
       "<style scoped>\n",
       "    .dataframe tbody tr th:only-of-type {\n",
       "        vertical-align: middle;\n",
       "    }\n",
       "\n",
       "    .dataframe tbody tr th {\n",
       "        vertical-align: top;\n",
       "    }\n",
       "\n",
       "    .dataframe thead th {\n",
       "        text-align: right;\n",
       "    }\n",
       "</style>\n",
       "<table border=\"1\" class=\"dataframe\">\n",
       "  <thead>\n",
       "    <tr style=\"text-align: right;\">\n",
       "      <th></th>\n",
       "      <th>id</th>\n",
       "      <th>name</th>\n",
       "      <th>artist</th>\n",
       "      <th>popularity</th>\n",
       "      <th>duration_ms</th>\n",
       "      <th>year</th>\n",
       "      <th>danceability</th>\n",
       "      <th>energy</th>\n",
       "      <th>key</th>\n",
       "      <th>loudness</th>\n",
       "      <th>mode</th>\n",
       "      <th>speechiness</th>\n",
       "      <th>acousticness</th>\n",
       "      <th>instrumentalness</th>\n",
       "      <th>liveness</th>\n",
       "      <th>valence</th>\n",
       "      <th>tempo</th>\n",
       "    </tr>\n",
       "  </thead>\n",
       "  <tbody>\n",
       "    <tr>\n",
       "      <th>0</th>\n",
       "      <td>5R8J6WCnV1E2lDJgVoaA4P</td>\n",
       "      <td>b'Threats'</td>\n",
       "      <td>b'Jean Grae'</td>\n",
       "      <td>41</td>\n",
       "      <td>246293</td>\n",
       "      <td>2008</td>\n",
       "      <td>0.677</td>\n",
       "      <td>0.631</td>\n",
       "      <td>0</td>\n",
       "      <td>-6.363</td>\n",
       "      <td>1</td>\n",
       "      <td>0.0578</td>\n",
       "      <td>0.09860</td>\n",
       "      <td>0.000005</td>\n",
       "      <td>0.245</td>\n",
       "      <td>0.454</td>\n",
       "      <td>90.120</td>\n",
       "    </tr>\n",
       "    <tr>\n",
       "      <th>1</th>\n",
       "      <td>5ex7brQNeKhyh6wjQoMDr0</td>\n",
       "      <td>b\"Queen's Philosophy\"</td>\n",
       "      <td>b'Sa-Roc'</td>\n",
       "      <td>17</td>\n",
       "      <td>193750</td>\n",
       "      <td>2013</td>\n",
       "      <td>0.849</td>\n",
       "      <td>0.572</td>\n",
       "      <td>7</td>\n",
       "      <td>-10.119</td>\n",
       "      <td>1</td>\n",
       "      <td>0.3580</td>\n",
       "      <td>0.03350</td>\n",
       "      <td>0.000000</td>\n",
       "      <td>0.109</td>\n",
       "      <td>0.497</td>\n",
       "      <td>97.106</td>\n",
       "    </tr>\n",
       "    <tr>\n",
       "      <th>2</th>\n",
       "      <td>0t7k99JA9z0KaMw1BoEpk8</td>\n",
       "      <td>b'9th vs. Thought'</td>\n",
       "      <td>b'Black Thought'</td>\n",
       "      <td>39</td>\n",
       "      <td>167741</td>\n",
       "      <td>2018</td>\n",
       "      <td>0.751</td>\n",
       "      <td>0.933</td>\n",
       "      <td>7</td>\n",
       "      <td>-2.188</td>\n",
       "      <td>1</td>\n",
       "      <td>0.2940</td>\n",
       "      <td>0.02550</td>\n",
       "      <td>0.000000</td>\n",
       "      <td>0.071</td>\n",
       "      <td>0.458</td>\n",
       "      <td>93.032</td>\n",
       "    </tr>\n",
       "    <tr>\n",
       "      <th>3</th>\n",
       "      <td>1LM6EReMkAxuDXDF26ekl2</td>\n",
       "      <td>b'Get By'</td>\n",
       "      <td>b'Talib Kweli'</td>\n",
       "      <td>59</td>\n",
       "      <td>227426</td>\n",
       "      <td>2002</td>\n",
       "      <td>0.662</td>\n",
       "      <td>0.928</td>\n",
       "      <td>2</td>\n",
       "      <td>-4.688</td>\n",
       "      <td>1</td>\n",
       "      <td>0.3770</td>\n",
       "      <td>0.00324</td>\n",
       "      <td>0.000000</td>\n",
       "      <td>0.170</td>\n",
       "      <td>0.775</td>\n",
       "      <td>90.509</td>\n",
       "    </tr>\n",
       "    <tr>\n",
       "      <th>4</th>\n",
       "      <td>5DWbvNiVrH2u0Si9e21ZjW</td>\n",
       "      <td>b'We Comin'</td>\n",
       "      <td>b'Sa-Roc'</td>\n",
       "      <td>8</td>\n",
       "      <td>209655</td>\n",
       "      <td>2015</td>\n",
       "      <td>0.659</td>\n",
       "      <td>0.859</td>\n",
       "      <td>8</td>\n",
       "      <td>-2.767</td>\n",
       "      <td>1</td>\n",
       "      <td>0.4230</td>\n",
       "      <td>0.30100</td>\n",
       "      <td>0.000000</td>\n",
       "      <td>0.715</td>\n",
       "      <td>0.709</td>\n",
       "      <td>174.542</td>\n",
       "    </tr>\n",
       "  </tbody>\n",
       "</table>\n",
       "</div>"
      ],
      "text/plain": [
       "                       id                   name            artist  \\\n",
       "0  5R8J6WCnV1E2lDJgVoaA4P             b'Threats'      b'Jean Grae'   \n",
       "1  5ex7brQNeKhyh6wjQoMDr0  b\"Queen's Philosophy\"         b'Sa-Roc'   \n",
       "2  0t7k99JA9z0KaMw1BoEpk8     b'9th vs. Thought'  b'Black Thought'   \n",
       "3  1LM6EReMkAxuDXDF26ekl2              b'Get By'    b'Talib Kweli'   \n",
       "4  5DWbvNiVrH2u0Si9e21ZjW            b'We Comin'         b'Sa-Roc'   \n",
       "\n",
       "   popularity  duration_ms  year  danceability  energy  key  loudness  mode  \\\n",
       "0          41       246293  2008         0.677   0.631    0    -6.363     1   \n",
       "1          17       193750  2013         0.849   0.572    7   -10.119     1   \n",
       "2          39       167741  2018         0.751   0.933    7    -2.188     1   \n",
       "3          59       227426  2002         0.662   0.928    2    -4.688     1   \n",
       "4           8       209655  2015         0.659   0.859    8    -2.767     1   \n",
       "\n",
       "   speechiness  acousticness  instrumentalness  liveness  valence    tempo  \n",
       "0       0.0578       0.09860          0.000005     0.245    0.454   90.120  \n",
       "1       0.3580       0.03350          0.000000     0.109    0.497   97.106  \n",
       "2       0.2940       0.02550          0.000000     0.071    0.458   93.032  \n",
       "3       0.3770       0.00324          0.000000     0.170    0.775   90.509  \n",
       "4       0.4230       0.30100          0.000000     0.715    0.709  174.542  "
      ]
     },
     "execution_count": 5,
     "metadata": {},
     "output_type": "execute_result"
    }
   ],
   "source": [
    "# muat dataset\n",
    "data = pd.read_csv('dataset.csv')\n",
    "data.head()"
   ]
  },
  {
   "attachments": {},
   "cell_type": "markdown",
   "metadata": {},
   "source": [
    "### Decode base64\n",
    "Dataset harus di encode-decode agar semua karakter ter-standarisasi dan file bisa dibaca dan diproses, bebas dari korupsi data.  \n",
    "Karena data yang diambil dari spotify web API di encode menggunakan bas64, maka kita akan men-decode data tersebut menggunakan algoritma yang sama.  \n",
    "Namun ketika di decode, muncul efek samping seperti penambahan ('b) di depan data dan (') dibelakang data.  \n",
    "Kita akan menghapus efek samping tersebut menggunakan teknik string slicing."
   ]
  },
  {
   "cell_type": "code",
   "execution_count": 6,
   "metadata": {},
   "outputs": [
    {
     "data": {
      "text/html": [
       "<div>\n",
       "<style scoped>\n",
       "    .dataframe tbody tr th:only-of-type {\n",
       "        vertical-align: middle;\n",
       "    }\n",
       "\n",
       "    .dataframe tbody tr th {\n",
       "        vertical-align: top;\n",
       "    }\n",
       "\n",
       "    .dataframe thead th {\n",
       "        text-align: right;\n",
       "    }\n",
       "</style>\n",
       "<table border=\"1\" class=\"dataframe\">\n",
       "  <thead>\n",
       "    <tr style=\"text-align: right;\">\n",
       "      <th></th>\n",
       "      <th>id</th>\n",
       "      <th>name</th>\n",
       "      <th>artist</th>\n",
       "      <th>popularity</th>\n",
       "      <th>duration_ms</th>\n",
       "      <th>year</th>\n",
       "      <th>danceability</th>\n",
       "      <th>energy</th>\n",
       "      <th>key</th>\n",
       "      <th>loudness</th>\n",
       "      <th>mode</th>\n",
       "      <th>speechiness</th>\n",
       "      <th>acousticness</th>\n",
       "      <th>instrumentalness</th>\n",
       "      <th>liveness</th>\n",
       "      <th>valence</th>\n",
       "      <th>tempo</th>\n",
       "    </tr>\n",
       "  </thead>\n",
       "  <tbody>\n",
       "    <tr>\n",
       "      <th>0</th>\n",
       "      <td>5R8J6WCnV1E2lDJgVoaA4P</td>\n",
       "      <td>Threats</td>\n",
       "      <td>Jean Grae</td>\n",
       "      <td>41</td>\n",
       "      <td>246293</td>\n",
       "      <td>2008</td>\n",
       "      <td>0.677</td>\n",
       "      <td>0.631</td>\n",
       "      <td>0</td>\n",
       "      <td>-6.363</td>\n",
       "      <td>1</td>\n",
       "      <td>0.0578</td>\n",
       "      <td>0.09860</td>\n",
       "      <td>0.000005</td>\n",
       "      <td>0.245</td>\n",
       "      <td>0.454</td>\n",
       "      <td>90.120</td>\n",
       "    </tr>\n",
       "    <tr>\n",
       "      <th>1</th>\n",
       "      <td>5ex7brQNeKhyh6wjQoMDr0</td>\n",
       "      <td>Queen's Philosophy</td>\n",
       "      <td>Sa-Roc</td>\n",
       "      <td>17</td>\n",
       "      <td>193750</td>\n",
       "      <td>2013</td>\n",
       "      <td>0.849</td>\n",
       "      <td>0.572</td>\n",
       "      <td>7</td>\n",
       "      <td>-10.119</td>\n",
       "      <td>1</td>\n",
       "      <td>0.3580</td>\n",
       "      <td>0.03350</td>\n",
       "      <td>0.000000</td>\n",
       "      <td>0.109</td>\n",
       "      <td>0.497</td>\n",
       "      <td>97.106</td>\n",
       "    </tr>\n",
       "    <tr>\n",
       "      <th>2</th>\n",
       "      <td>0t7k99JA9z0KaMw1BoEpk8</td>\n",
       "      <td>9th vs. Thought</td>\n",
       "      <td>Black Thought</td>\n",
       "      <td>39</td>\n",
       "      <td>167741</td>\n",
       "      <td>2018</td>\n",
       "      <td>0.751</td>\n",
       "      <td>0.933</td>\n",
       "      <td>7</td>\n",
       "      <td>-2.188</td>\n",
       "      <td>1</td>\n",
       "      <td>0.2940</td>\n",
       "      <td>0.02550</td>\n",
       "      <td>0.000000</td>\n",
       "      <td>0.071</td>\n",
       "      <td>0.458</td>\n",
       "      <td>93.032</td>\n",
       "    </tr>\n",
       "    <tr>\n",
       "      <th>3</th>\n",
       "      <td>1LM6EReMkAxuDXDF26ekl2</td>\n",
       "      <td>Get By</td>\n",
       "      <td>Talib Kweli</td>\n",
       "      <td>59</td>\n",
       "      <td>227426</td>\n",
       "      <td>2002</td>\n",
       "      <td>0.662</td>\n",
       "      <td>0.928</td>\n",
       "      <td>2</td>\n",
       "      <td>-4.688</td>\n",
       "      <td>1</td>\n",
       "      <td>0.3770</td>\n",
       "      <td>0.00324</td>\n",
       "      <td>0.000000</td>\n",
       "      <td>0.170</td>\n",
       "      <td>0.775</td>\n",
       "      <td>90.509</td>\n",
       "    </tr>\n",
       "    <tr>\n",
       "      <th>4</th>\n",
       "      <td>5DWbvNiVrH2u0Si9e21ZjW</td>\n",
       "      <td>We Comin</td>\n",
       "      <td>Sa-Roc</td>\n",
       "      <td>8</td>\n",
       "      <td>209655</td>\n",
       "      <td>2015</td>\n",
       "      <td>0.659</td>\n",
       "      <td>0.859</td>\n",
       "      <td>8</td>\n",
       "      <td>-2.767</td>\n",
       "      <td>1</td>\n",
       "      <td>0.4230</td>\n",
       "      <td>0.30100</td>\n",
       "      <td>0.000000</td>\n",
       "      <td>0.715</td>\n",
       "      <td>0.709</td>\n",
       "      <td>174.542</td>\n",
       "    </tr>\n",
       "  </tbody>\n",
       "</table>\n",
       "</div>"
      ],
      "text/plain": [
       "                       id                name         artist  popularity  \\\n",
       "0  5R8J6WCnV1E2lDJgVoaA4P             Threats      Jean Grae          41   \n",
       "1  5ex7brQNeKhyh6wjQoMDr0  Queen's Philosophy         Sa-Roc          17   \n",
       "2  0t7k99JA9z0KaMw1BoEpk8     9th vs. Thought  Black Thought          39   \n",
       "3  1LM6EReMkAxuDXDF26ekl2              Get By    Talib Kweli          59   \n",
       "4  5DWbvNiVrH2u0Si9e21ZjW            We Comin         Sa-Roc           8   \n",
       "\n",
       "   duration_ms  year  danceability  energy  key  loudness  mode  speechiness  \\\n",
       "0       246293  2008         0.677   0.631    0    -6.363     1       0.0578   \n",
       "1       193750  2013         0.849   0.572    7   -10.119     1       0.3580   \n",
       "2       167741  2018         0.751   0.933    7    -2.188     1       0.2940   \n",
       "3       227426  2002         0.662   0.928    2    -4.688     1       0.3770   \n",
       "4       209655  2015         0.659   0.859    8    -2.767     1       0.4230   \n",
       "\n",
       "   acousticness  instrumentalness  liveness  valence    tempo  \n",
       "0       0.09860          0.000005     0.245    0.454   90.120  \n",
       "1       0.03350          0.000000     0.109    0.497   97.106  \n",
       "2       0.02550          0.000000     0.071    0.458   93.032  \n",
       "3       0.00324          0.000000     0.170    0.775   90.509  \n",
       "4       0.30100          0.000000     0.715    0.709  174.542  "
      ]
     },
     "execution_count": 6,
     "metadata": {},
     "output_type": "execute_result"
    }
   ],
   "source": [
    "# Hapus karakter yang tidak perlu pada kolom artist dan name\n",
    "data['artist'] = data['artist'].map(lambda x: str(x)[2:-1])\n",
    "data['name'] = data['name'].map(lambda x: str(x)[2:-1])\n",
    "\n",
    "data.head()"
   ]
  },
  {
   "attachments": {},
   "cell_type": "markdown",
   "metadata": {},
   "source": [
    "### Cek Nilai Kosong\n",
    "Sebagai efek samping dari encode-decode, terkadang kolom nama kosong. Maka kita harus menemukan data tersebut dan menghapusnya, agar algoritma dapat memproses data yang benar.  "
   ]
  },
  {
   "cell_type": "code",
   "execution_count": 7,
   "metadata": {},
   "outputs": [
    {
     "data": {
      "text/html": [
       "<div>\n",
       "<style scoped>\n",
       "    .dataframe tbody tr th:only-of-type {\n",
       "        vertical-align: middle;\n",
       "    }\n",
       "\n",
       "    .dataframe tbody tr th {\n",
       "        vertical-align: top;\n",
       "    }\n",
       "\n",
       "    .dataframe thead th {\n",
       "        text-align: right;\n",
       "    }\n",
       "</style>\n",
       "<table border=\"1\" class=\"dataframe\">\n",
       "  <thead>\n",
       "    <tr style=\"text-align: right;\">\n",
       "      <th></th>\n",
       "      <th>id</th>\n",
       "      <th>name</th>\n",
       "      <th>artist</th>\n",
       "      <th>popularity</th>\n",
       "      <th>duration_ms</th>\n",
       "      <th>year</th>\n",
       "      <th>danceability</th>\n",
       "      <th>energy</th>\n",
       "      <th>key</th>\n",
       "      <th>loudness</th>\n",
       "      <th>mode</th>\n",
       "      <th>speechiness</th>\n",
       "      <th>acousticness</th>\n",
       "      <th>instrumentalness</th>\n",
       "      <th>liveness</th>\n",
       "      <th>valence</th>\n",
       "      <th>tempo</th>\n",
       "    </tr>\n",
       "  </thead>\n",
       "  <tbody>\n",
       "    <tr>\n",
       "      <th>0</th>\n",
       "      <td>5R8J6WCnV1E2lDJgVoaA4P</td>\n",
       "      <td>Threats</td>\n",
       "      <td>Jean Grae</td>\n",
       "      <td>41</td>\n",
       "      <td>246293</td>\n",
       "      <td>2008</td>\n",
       "      <td>0.677</td>\n",
       "      <td>0.631</td>\n",
       "      <td>0</td>\n",
       "      <td>-6.363</td>\n",
       "      <td>1</td>\n",
       "      <td>0.0578</td>\n",
       "      <td>0.09860</td>\n",
       "      <td>0.000005</td>\n",
       "      <td>0.245</td>\n",
       "      <td>0.454</td>\n",
       "      <td>90.120</td>\n",
       "    </tr>\n",
       "    <tr>\n",
       "      <th>1</th>\n",
       "      <td>5ex7brQNeKhyh6wjQoMDr0</td>\n",
       "      <td>Queen's Philosophy</td>\n",
       "      <td>Sa-Roc</td>\n",
       "      <td>17</td>\n",
       "      <td>193750</td>\n",
       "      <td>2013</td>\n",
       "      <td>0.849</td>\n",
       "      <td>0.572</td>\n",
       "      <td>7</td>\n",
       "      <td>-10.119</td>\n",
       "      <td>1</td>\n",
       "      <td>0.3580</td>\n",
       "      <td>0.03350</td>\n",
       "      <td>0.000000</td>\n",
       "      <td>0.109</td>\n",
       "      <td>0.497</td>\n",
       "      <td>97.106</td>\n",
       "    </tr>\n",
       "    <tr>\n",
       "      <th>2</th>\n",
       "      <td>0t7k99JA9z0KaMw1BoEpk8</td>\n",
       "      <td>9th vs. Thought</td>\n",
       "      <td>Black Thought</td>\n",
       "      <td>39</td>\n",
       "      <td>167741</td>\n",
       "      <td>2018</td>\n",
       "      <td>0.751</td>\n",
       "      <td>0.933</td>\n",
       "      <td>7</td>\n",
       "      <td>-2.188</td>\n",
       "      <td>1</td>\n",
       "      <td>0.2940</td>\n",
       "      <td>0.02550</td>\n",
       "      <td>0.000000</td>\n",
       "      <td>0.071</td>\n",
       "      <td>0.458</td>\n",
       "      <td>93.032</td>\n",
       "    </tr>\n",
       "    <tr>\n",
       "      <th>3</th>\n",
       "      <td>1LM6EReMkAxuDXDF26ekl2</td>\n",
       "      <td>Get By</td>\n",
       "      <td>Talib Kweli</td>\n",
       "      <td>59</td>\n",
       "      <td>227426</td>\n",
       "      <td>2002</td>\n",
       "      <td>0.662</td>\n",
       "      <td>0.928</td>\n",
       "      <td>2</td>\n",
       "      <td>-4.688</td>\n",
       "      <td>1</td>\n",
       "      <td>0.3770</td>\n",
       "      <td>0.00324</td>\n",
       "      <td>0.000000</td>\n",
       "      <td>0.170</td>\n",
       "      <td>0.775</td>\n",
       "      <td>90.509</td>\n",
       "    </tr>\n",
       "    <tr>\n",
       "      <th>4</th>\n",
       "      <td>5DWbvNiVrH2u0Si9e21ZjW</td>\n",
       "      <td>We Comin</td>\n",
       "      <td>Sa-Roc</td>\n",
       "      <td>8</td>\n",
       "      <td>209655</td>\n",
       "      <td>2015</td>\n",
       "      <td>0.659</td>\n",
       "      <td>0.859</td>\n",
       "      <td>8</td>\n",
       "      <td>-2.767</td>\n",
       "      <td>1</td>\n",
       "      <td>0.4230</td>\n",
       "      <td>0.30100</td>\n",
       "      <td>0.000000</td>\n",
       "      <td>0.715</td>\n",
       "      <td>0.709</td>\n",
       "      <td>174.542</td>\n",
       "    </tr>\n",
       "  </tbody>\n",
       "</table>\n",
       "</div>"
      ],
      "text/plain": [
       "                       id                name         artist  popularity  \\\n",
       "0  5R8J6WCnV1E2lDJgVoaA4P             Threats      Jean Grae          41   \n",
       "1  5ex7brQNeKhyh6wjQoMDr0  Queen's Philosophy         Sa-Roc          17   \n",
       "2  0t7k99JA9z0KaMw1BoEpk8     9th vs. Thought  Black Thought          39   \n",
       "3  1LM6EReMkAxuDXDF26ekl2              Get By    Talib Kweli          59   \n",
       "4  5DWbvNiVrH2u0Si9e21ZjW            We Comin         Sa-Roc           8   \n",
       "\n",
       "   duration_ms  year  danceability  energy  key  loudness  mode  speechiness  \\\n",
       "0       246293  2008         0.677   0.631    0    -6.363     1       0.0578   \n",
       "1       193750  2013         0.849   0.572    7   -10.119     1       0.3580   \n",
       "2       167741  2018         0.751   0.933    7    -2.188     1       0.2940   \n",
       "3       227426  2002         0.662   0.928    2    -4.688     1       0.3770   \n",
       "4       209655  2015         0.659   0.859    8    -2.767     1       0.4230   \n",
       "\n",
       "   acousticness  instrumentalness  liveness  valence    tempo  \n",
       "0       0.09860          0.000005     0.245    0.454   90.120  \n",
       "1       0.03350          0.000000     0.109    0.497   97.106  \n",
       "2       0.02550          0.000000     0.071    0.458   93.032  \n",
       "3       0.00324          0.000000     0.170    0.775   90.509  \n",
       "4       0.30100          0.000000     0.715    0.709  174.542  "
      ]
     },
     "execution_count": 7,
     "metadata": {},
     "output_type": "execute_result"
    }
   ],
   "source": [
    "#delete empty string in name column\n",
    "data = data[data['name'] != '']\n",
    "\n",
    "#reset index\n",
    "data = data.reset_index(drop=True)\n",
    "\n",
    "data.head()"
   ]
  },
  {
   "attachments": {},
   "cell_type": "markdown",
   "metadata": {},
   "source": [
    "### Feature Selection\n",
    "Tujuan utama kita adalah untuk melakukan clustering terhadap karakteristik lagu. Dalam dataset, ada beberapa fitur yang tidak mencerminkan karakteristik dari sebuah lagu, maka kita harus menghapus fitur-fitur tersebut.  \n",
    "anda bisa melihat deskripsi dari fitur tersebut di section data understanding diatas."
   ]
  },
  {
   "cell_type": "code",
   "execution_count": 8,
   "metadata": {},
   "outputs": [
    {
     "data": {
      "text/html": [
       "<div>\n",
       "<style scoped>\n",
       "    .dataframe tbody tr th:only-of-type {\n",
       "        vertical-align: middle;\n",
       "    }\n",
       "\n",
       "    .dataframe tbody tr th {\n",
       "        vertical-align: top;\n",
       "    }\n",
       "\n",
       "    .dataframe thead th {\n",
       "        text-align: right;\n",
       "    }\n",
       "</style>\n",
       "<table border=\"1\" class=\"dataframe\">\n",
       "  <thead>\n",
       "    <tr style=\"text-align: right;\">\n",
       "      <th></th>\n",
       "      <th>danceability</th>\n",
       "      <th>energy</th>\n",
       "      <th>loudness</th>\n",
       "      <th>speechiness</th>\n",
       "      <th>acousticness</th>\n",
       "      <th>instrumentalness</th>\n",
       "      <th>liveness</th>\n",
       "      <th>valence</th>\n",
       "      <th>tempo</th>\n",
       "    </tr>\n",
       "  </thead>\n",
       "  <tbody>\n",
       "    <tr>\n",
       "      <th>0</th>\n",
       "      <td>0.677</td>\n",
       "      <td>0.631</td>\n",
       "      <td>-6.363</td>\n",
       "      <td>0.0578</td>\n",
       "      <td>0.09860</td>\n",
       "      <td>0.000005</td>\n",
       "      <td>0.245</td>\n",
       "      <td>0.454</td>\n",
       "      <td>90.120</td>\n",
       "    </tr>\n",
       "    <tr>\n",
       "      <th>1</th>\n",
       "      <td>0.849</td>\n",
       "      <td>0.572</td>\n",
       "      <td>-10.119</td>\n",
       "      <td>0.3580</td>\n",
       "      <td>0.03350</td>\n",
       "      <td>0.000000</td>\n",
       "      <td>0.109</td>\n",
       "      <td>0.497</td>\n",
       "      <td>97.106</td>\n",
       "    </tr>\n",
       "    <tr>\n",
       "      <th>2</th>\n",
       "      <td>0.751</td>\n",
       "      <td>0.933</td>\n",
       "      <td>-2.188</td>\n",
       "      <td>0.2940</td>\n",
       "      <td>0.02550</td>\n",
       "      <td>0.000000</td>\n",
       "      <td>0.071</td>\n",
       "      <td>0.458</td>\n",
       "      <td>93.032</td>\n",
       "    </tr>\n",
       "    <tr>\n",
       "      <th>3</th>\n",
       "      <td>0.662</td>\n",
       "      <td>0.928</td>\n",
       "      <td>-4.688</td>\n",
       "      <td>0.3770</td>\n",
       "      <td>0.00324</td>\n",
       "      <td>0.000000</td>\n",
       "      <td>0.170</td>\n",
       "      <td>0.775</td>\n",
       "      <td>90.509</td>\n",
       "    </tr>\n",
       "    <tr>\n",
       "      <th>4</th>\n",
       "      <td>0.659</td>\n",
       "      <td>0.859</td>\n",
       "      <td>-2.767</td>\n",
       "      <td>0.4230</td>\n",
       "      <td>0.30100</td>\n",
       "      <td>0.000000</td>\n",
       "      <td>0.715</td>\n",
       "      <td>0.709</td>\n",
       "      <td>174.542</td>\n",
       "    </tr>\n",
       "  </tbody>\n",
       "</table>\n",
       "</div>"
      ],
      "text/plain": [
       "   danceability  energy  loudness  speechiness  acousticness  \\\n",
       "0         0.677   0.631    -6.363       0.0578       0.09860   \n",
       "1         0.849   0.572   -10.119       0.3580       0.03350   \n",
       "2         0.751   0.933    -2.188       0.2940       0.02550   \n",
       "3         0.662   0.928    -4.688       0.3770       0.00324   \n",
       "4         0.659   0.859    -2.767       0.4230       0.30100   \n",
       "\n",
       "   instrumentalness  liveness  valence    tempo  \n",
       "0          0.000005     0.245    0.454   90.120  \n",
       "1          0.000000     0.109    0.497   97.106  \n",
       "2          0.000000     0.071    0.458   93.032  \n",
       "3          0.000000     0.170    0.775   90.509  \n",
       "4          0.000000     0.715    0.709  174.542  "
      ]
     },
     "execution_count": 8,
     "metadata": {},
     "output_type": "execute_result"
    }
   ],
   "source": [
    "# drop name artist and year column\n",
    "data2 = data.copy()\n",
    "data2 = data2.drop(['artist', 'name', 'year', 'popularity', 'key','duration_ms', 'mode', 'id'], axis=1)\n",
    "\n",
    "data2.head()"
   ]
  },
  {
   "attachments": {},
   "cell_type": "markdown",
   "metadata": {},
   "source": [
    "### Normalisasi MinMax\n",
    "beberapa fitur mempunyai batasan nilai yang berbeda-beda dan jaraknya cukup jauh. sebagai contoh, di fitur loudness, batasan nilai adalah -60 sampai -3, sedangkan di variabel instrumentalness, batasan nilai adalah 0 sampai 3.490000e-01. Untuk data min max selengkapnya bisa dicek di code dibawah.\n",
    "\n",
    "nilai spread yang cukup besar ini dapat mempengaruhi hasil akhir clusterisasi, maka kita harus melakukan proses standarisasi agar semua fitur mempunyai batasan yang sama, yaitu 0 sampai 1"
   ]
  },
  {
   "cell_type": "code",
   "execution_count": 9,
   "metadata": {},
   "outputs": [
    {
     "data": {
      "text/html": [
       "<div>\n",
       "<style scoped>\n",
       "    .dataframe tbody tr th:only-of-type {\n",
       "        vertical-align: middle;\n",
       "    }\n",
       "\n",
       "    .dataframe tbody tr th {\n",
       "        vertical-align: top;\n",
       "    }\n",
       "\n",
       "    .dataframe thead th {\n",
       "        text-align: right;\n",
       "    }\n",
       "</style>\n",
       "<table border=\"1\" class=\"dataframe\">\n",
       "  <thead>\n",
       "    <tr style=\"text-align: right;\">\n",
       "      <th></th>\n",
       "      <th>danceability</th>\n",
       "      <th>energy</th>\n",
       "      <th>loudness</th>\n",
       "      <th>speechiness</th>\n",
       "      <th>acousticness</th>\n",
       "      <th>instrumentalness</th>\n",
       "      <th>liveness</th>\n",
       "      <th>valence</th>\n",
       "      <th>tempo</th>\n",
       "    </tr>\n",
       "  </thead>\n",
       "  <tbody>\n",
       "    <tr>\n",
       "      <th>count</th>\n",
       "      <td>100.000000</td>\n",
       "      <td>100.000000</td>\n",
       "      <td>100.000000</td>\n",
       "      <td>100.000000</td>\n",
       "      <td>100.000000</td>\n",
       "      <td>100.000000</td>\n",
       "      <td>100.000000</td>\n",
       "      <td>100.00000</td>\n",
       "      <td>100.000000</td>\n",
       "    </tr>\n",
       "    <tr>\n",
       "      <th>mean</th>\n",
       "      <td>0.697490</td>\n",
       "      <td>0.710490</td>\n",
       "      <td>-6.662950</td>\n",
       "      <td>0.201792</td>\n",
       "      <td>0.198313</td>\n",
       "      <td>0.072261</td>\n",
       "      <td>0.226766</td>\n",
       "      <td>0.57168</td>\n",
       "      <td>106.059930</td>\n",
       "    </tr>\n",
       "    <tr>\n",
       "      <th>std</th>\n",
       "      <td>0.145967</td>\n",
       "      <td>0.148948</td>\n",
       "      <td>2.480507</td>\n",
       "      <td>0.129588</td>\n",
       "      <td>0.214676</td>\n",
       "      <td>0.205381</td>\n",
       "      <td>0.180887</td>\n",
       "      <td>0.19745</td>\n",
       "      <td>30.011474</td>\n",
       "    </tr>\n",
       "    <tr>\n",
       "      <th>min</th>\n",
       "      <td>0.245000</td>\n",
       "      <td>0.357000</td>\n",
       "      <td>-15.094000</td>\n",
       "      <td>0.029000</td>\n",
       "      <td>0.000087</td>\n",
       "      <td>0.000000</td>\n",
       "      <td>0.036000</td>\n",
       "      <td>0.14400</td>\n",
       "      <td>76.206000</td>\n",
       "    </tr>\n",
       "    <tr>\n",
       "      <th>25%</th>\n",
       "      <td>0.631750</td>\n",
       "      <td>0.596250</td>\n",
       "      <td>-7.756000</td>\n",
       "      <td>0.074700</td>\n",
       "      <td>0.030675</td>\n",
       "      <td>0.000000</td>\n",
       "      <td>0.100675</td>\n",
       "      <td>0.45050</td>\n",
       "      <td>89.746000</td>\n",
       "    </tr>\n",
       "    <tr>\n",
       "      <th>50%</th>\n",
       "      <td>0.704500</td>\n",
       "      <td>0.712500</td>\n",
       "      <td>-6.599500</td>\n",
       "      <td>0.196500</td>\n",
       "      <td>0.114500</td>\n",
       "      <td>0.000003</td>\n",
       "      <td>0.143000</td>\n",
       "      <td>0.56450</td>\n",
       "      <td>93.998000</td>\n",
       "    </tr>\n",
       "    <tr>\n",
       "      <th>75%</th>\n",
       "      <td>0.799500</td>\n",
       "      <td>0.837250</td>\n",
       "      <td>-5.105500</td>\n",
       "      <td>0.297000</td>\n",
       "      <td>0.320250</td>\n",
       "      <td>0.003790</td>\n",
       "      <td>0.298000</td>\n",
       "      <td>0.70250</td>\n",
       "      <td>103.659500</td>\n",
       "    </tr>\n",
       "    <tr>\n",
       "      <th>max</th>\n",
       "      <td>0.942000</td>\n",
       "      <td>0.961000</td>\n",
       "      <td>-1.518000</td>\n",
       "      <td>0.510000</td>\n",
       "      <td>0.863000</td>\n",
       "      <td>0.915000</td>\n",
       "      <td>0.855000</td>\n",
       "      <td>0.95900</td>\n",
       "      <td>192.296000</td>\n",
       "    </tr>\n",
       "  </tbody>\n",
       "</table>\n",
       "</div>"
      ],
      "text/plain": [
       "       danceability      energy    loudness  speechiness  acousticness  \\\n",
       "count    100.000000  100.000000  100.000000   100.000000    100.000000   \n",
       "mean       0.697490    0.710490   -6.662950     0.201792      0.198313   \n",
       "std        0.145967    0.148948    2.480507     0.129588      0.214676   \n",
       "min        0.245000    0.357000  -15.094000     0.029000      0.000087   \n",
       "25%        0.631750    0.596250   -7.756000     0.074700      0.030675   \n",
       "50%        0.704500    0.712500   -6.599500     0.196500      0.114500   \n",
       "75%        0.799500    0.837250   -5.105500     0.297000      0.320250   \n",
       "max        0.942000    0.961000   -1.518000     0.510000      0.863000   \n",
       "\n",
       "       instrumentalness    liveness    valence       tempo  \n",
       "count        100.000000  100.000000  100.00000  100.000000  \n",
       "mean           0.072261    0.226766    0.57168  106.059930  \n",
       "std            0.205381    0.180887    0.19745   30.011474  \n",
       "min            0.000000    0.036000    0.14400   76.206000  \n",
       "25%            0.000000    0.100675    0.45050   89.746000  \n",
       "50%            0.000003    0.143000    0.56450   93.998000  \n",
       "75%            0.003790    0.298000    0.70250  103.659500  \n",
       "max            0.915000    0.855000    0.95900  192.296000  "
      ]
     },
     "execution_count": 9,
     "metadata": {},
     "output_type": "execute_result"
    }
   ],
   "source": [
    "# check min max masing masing variable\n",
    "data2.describe()"
   ]
  },
  {
   "cell_type": "code",
   "execution_count": 10,
   "metadata": {},
   "outputs": [
    {
     "data": {
      "text/html": [
       "<div>\n",
       "<style scoped>\n",
       "    .dataframe tbody tr th:only-of-type {\n",
       "        vertical-align: middle;\n",
       "    }\n",
       "\n",
       "    .dataframe tbody tr th {\n",
       "        vertical-align: top;\n",
       "    }\n",
       "\n",
       "    .dataframe thead th {\n",
       "        text-align: right;\n",
       "    }\n",
       "</style>\n",
       "<table border=\"1\" class=\"dataframe\">\n",
       "  <thead>\n",
       "    <tr style=\"text-align: right;\">\n",
       "      <th></th>\n",
       "      <th>acousticness</th>\n",
       "      <th>danceability</th>\n",
       "      <th>energy</th>\n",
       "      <th>instrumentalness</th>\n",
       "      <th>loudness</th>\n",
       "      <th>liveness</th>\n",
       "      <th>speechiness</th>\n",
       "      <th>tempo</th>\n",
       "      <th>valence</th>\n",
       "    </tr>\n",
       "  </thead>\n",
       "  <tbody>\n",
       "    <tr>\n",
       "      <th>count</th>\n",
       "      <td>100.000000</td>\n",
       "      <td>100.000000</td>\n",
       "      <td>100.000000</td>\n",
       "      <td>100.000000</td>\n",
       "      <td>100.000000</td>\n",
       "      <td>100.000000</td>\n",
       "      <td>100.000000</td>\n",
       "      <td>100.000000</td>\n",
       "      <td>100.000000</td>\n",
       "    </tr>\n",
       "    <tr>\n",
       "      <th>mean</th>\n",
       "      <td>0.649197</td>\n",
       "      <td>0.585248</td>\n",
       "      <td>0.621026</td>\n",
       "      <td>0.359235</td>\n",
       "      <td>0.229716</td>\n",
       "      <td>0.078974</td>\n",
       "      <td>0.232926</td>\n",
       "      <td>0.524761</td>\n",
       "      <td>0.257162</td>\n",
       "    </tr>\n",
       "    <tr>\n",
       "      <th>std</th>\n",
       "      <td>0.209422</td>\n",
       "      <td>0.246602</td>\n",
       "      <td>0.182713</td>\n",
       "      <td>0.269414</td>\n",
       "      <td>0.248781</td>\n",
       "      <td>0.224460</td>\n",
       "      <td>0.220864</td>\n",
       "      <td>0.242270</td>\n",
       "      <td>0.258519</td>\n",
       "    </tr>\n",
       "    <tr>\n",
       "      <th>min</th>\n",
       "      <td>0.000000</td>\n",
       "      <td>0.000000</td>\n",
       "      <td>0.000000</td>\n",
       "      <td>0.000000</td>\n",
       "      <td>0.000000</td>\n",
       "      <td>0.000000</td>\n",
       "      <td>0.000000</td>\n",
       "      <td>0.000000</td>\n",
       "      <td>0.000000</td>\n",
       "    </tr>\n",
       "    <tr>\n",
       "      <th>25%</th>\n",
       "      <td>0.554878</td>\n",
       "      <td>0.396109</td>\n",
       "      <td>0.540513</td>\n",
       "      <td>0.095010</td>\n",
       "      <td>0.035447</td>\n",
       "      <td>0.000000</td>\n",
       "      <td>0.078968</td>\n",
       "      <td>0.376074</td>\n",
       "      <td>0.116634</td>\n",
       "    </tr>\n",
       "    <tr>\n",
       "      <th>50%</th>\n",
       "      <td>0.659254</td>\n",
       "      <td>0.588576</td>\n",
       "      <td>0.625700</td>\n",
       "      <td>0.348233</td>\n",
       "      <td>0.132589</td>\n",
       "      <td>0.000003</td>\n",
       "      <td>0.130647</td>\n",
       "      <td>0.515951</td>\n",
       "      <td>0.153260</td>\n",
       "    </tr>\n",
       "    <tr>\n",
       "      <th>75%</th>\n",
       "      <td>0.795552</td>\n",
       "      <td>0.795116</td>\n",
       "      <td>0.735747</td>\n",
       "      <td>0.557173</td>\n",
       "      <td>0.371026</td>\n",
       "      <td>0.004142</td>\n",
       "      <td>0.319902</td>\n",
       "      <td>0.685276</td>\n",
       "      <td>0.236485</td>\n",
       "    </tr>\n",
       "    <tr>\n",
       "      <th>max</th>\n",
       "      <td>1.000000</td>\n",
       "      <td>1.000000</td>\n",
       "      <td>1.000000</td>\n",
       "      <td>1.000000</td>\n",
       "      <td>1.000000</td>\n",
       "      <td>1.000000</td>\n",
       "      <td>1.000000</td>\n",
       "      <td>1.000000</td>\n",
       "      <td>1.000000</td>\n",
       "    </tr>\n",
       "  </tbody>\n",
       "</table>\n",
       "</div>"
      ],
      "text/plain": [
       "       acousticness  danceability      energy  instrumentalness    loudness  \\\n",
       "count    100.000000    100.000000  100.000000        100.000000  100.000000   \n",
       "mean       0.649197      0.585248    0.621026          0.359235    0.229716   \n",
       "std        0.209422      0.246602    0.182713          0.269414    0.248781   \n",
       "min        0.000000      0.000000    0.000000          0.000000    0.000000   \n",
       "25%        0.554878      0.396109    0.540513          0.095010    0.035447   \n",
       "50%        0.659254      0.588576    0.625700          0.348233    0.132589   \n",
       "75%        0.795552      0.795116    0.735747          0.557173    0.371026   \n",
       "max        1.000000      1.000000    1.000000          1.000000    1.000000   \n",
       "\n",
       "         liveness  speechiness       tempo     valence  \n",
       "count  100.000000   100.000000  100.000000  100.000000  \n",
       "mean     0.078974     0.232926    0.524761    0.257162  \n",
       "std      0.224460     0.220864    0.242270    0.258519  \n",
       "min      0.000000     0.000000    0.000000    0.000000  \n",
       "25%      0.000000     0.078968    0.376074    0.116634  \n",
       "50%      0.000003     0.130647    0.515951    0.153260  \n",
       "75%      0.004142     0.319902    0.685276    0.236485  \n",
       "max      1.000000     1.000000    1.000000    1.000000  "
      ]
     },
     "execution_count": 10,
     "metadata": {},
     "output_type": "execute_result"
    }
   ],
   "source": [
    "from sklearn import preprocessing\n",
    "\n",
    "# normalize all data to 0 and 1\n",
    "x = data2.values #returns a numpy array\n",
    "min_max_scaler = preprocessing.MinMaxScaler()\n",
    "x_scaled = min_max_scaler.fit_transform(x)\n",
    "data2 = pd.DataFrame(x_scaled)\n",
    "\n",
    "# convert to dataframe\n",
    "data2.columns = ['acousticness','danceability','energy','instrumentalness','loudness', 'liveness', 'speechiness', 'tempo','valence']\n",
    "\n",
    "# data2.head()\n",
    "data2.describe()"
   ]
  },
  {
   "attachments": {},
   "cell_type": "markdown",
   "metadata": {},
   "source": [
    "### Dimensionality Reduction using Principal Component Analysis (PCA)\n",
    "\n",
    "Setelah kita menghapus fitur yang tidak terpakai, kita masih mempunyai 9 fitur. Kita tidak dapat melakukan proses clustering dengan 9 fitur, karena proses clustering hanya bisa dilakukan dengan maksimal 2 fitur. Oleh karena itu diperlukan metode dimensionality reduction dengan Principal Component Analysis untuk mengkondensasi 9 fitur menjadi 2 fitur. Nilai intrinsik yang ada di 9 fitur tidak akan hilang, nilai tersebut akan direpresentasikan ke bentuk yang lebih kecil, menjadi 2 fitur. \n",
    "\n",
    "Sebagai sebuah analogi, seorang fotografer yang sedang berwisata ke sebuah taman margasatwa di dekat pegunungan. Fotografer melihat banyaknya keindahan alam disana. Pemikiran pertama yang muncul adalah untuk memotret semua keindahan alam yang ada, fotografer tidak peduli akan mengambil 100, 500 bahkan 1000 foto sekalipun. Namun tiba tiba sang fotografer teringat bahwa dia hanya mempunyai memori SD card 4gb, jadi dia tidak bisa mengambil foto sebayak itu. Pengambilan foto secara keseluruhan ini bisa dianaologikan sebagai dataset awal kita yang berukuran besar dan tidak bisa diolah.\n",
    "\n",
    "Lalu apa solusinya? Fotografer menganalisa keindahan-keindahan alam disekitarnya dan menemukan bahwa beberapa bagian tidak perlu difoto. Seperti kotoran-kotoran hewan yang ada di lapangan, pohon tumbang yang berisi belatung, daun-daun yang dimakan parasit. Hal ini bisa dianalogikan sebagai fitur yang tidak mengandung makna khusus, dan bisa dihapus atau dikurangi.\n",
    "\n",
    "Mengetahui hal ini, sang fotografer mulai mencari keindahan alam sebenarnya yang patut diabadikan, seperti gunung yang membelah awan, gradasi warna  langit yang indah, dan bunga-bunga yang bermekaran. Fotografer memotret keindahan tersebut dan hanya menyimpan 5 foto. Hal ini dapat dianalogikan bahwa beberapa fitur mempunyai banyak makna atau value, dan fitur tersebut patut disimpan atau difokuskan. \n",
    "\n",
    "Dataset awalnya mempunyai ukuran besar dan fitur yang banyak. Menggunakan PCA, dataset di proses, dihilangkan fitur yang tidak bermakna, dan memfokuskan fitur yang bermakna. Ukuran dataset berkurang, namun value atau makna dataset secara keseluruhan masih sama seperti posisi awal."
   ]
  },
  {
   "cell_type": "code",
   "execution_count": 11,
   "metadata": {},
   "outputs": [
    {
     "data": {
      "application/vnd.plotly.v1+json": {
       "config": {
        "plotlyServerURL": "https://plot.ly"
       },
       "data": [
        {
         "hovertemplate": "x=%{x}<br>y=%{y}<extra></extra>",
         "legendgroup": "",
         "marker": {
          "color": "#000001",
          "symbol": "circle"
         },
         "mode": "markers",
         "name": "",
         "orientation": "v",
         "showlegend": false,
         "type": "scatter",
         "x": [
          0.1359720421090195,
          0.05074051602090565,
          -0.38668550313139416,
          -0.4539583001641539,
          -0.7095366359692206,
          -0.18835350779020318,
          -0.2844124670268119,
          -0.5523131046484486,
          0.055277878953341894,
          -0.09736881934744475,
          -0.3426570284102757,
          -0.35723939055157966,
          -0.043628959568030486,
          -0.47365889834565106,
          -0.4501176647521103,
          -0.37012740142445005,
          -0.5313452305214212,
          0.25244021756048873,
          -0.47406851230816655,
          -0.5075612703431549,
          0.2929372923413671,
          -0.3859400043120029,
          -0.17660331257637166,
          -0.5705450943498728,
          -0.20147820528898283,
          -0.32166782445033937,
          0.13721010224154617,
          -0.051514088220340225,
          0.17324099370767246,
          -0.7562770400351462,
          0.3542176054973479,
          0.6065916910512437,
          -0.1113299121667416,
          -0.21924775209243186,
          -0.2915464336934041,
          0.03426817355757638,
          -0.44921887960217344,
          -0.32102351136929164,
          -0.19214525808805782,
          0.2013038307572889,
          0.248167827346132,
          -0.5487448589112779,
          0.06392908917849162,
          -0.15016951795364974,
          -0.274584615498399,
          0.08159657589750773,
          0.06399756535832764,
          -0.31241466855294214,
          -0.06218210140450924,
          0.19618551968419637,
          -0.47254235744417106,
          0.36896688274049383,
          0.2557289623280655,
          0.27910463815491016,
          0.34294434972429183,
          0.17913017024958905,
          1.1255075174119495,
          0.13521887507058603,
          0.4699177168179113,
          0.20286014287812962,
          0.22079623451304176,
          0.17714912219302814,
          -0.05850605344552535,
          -0.32661169617160307,
          0.6453506354620424,
          -0.18646278097381394,
          0.15520972460424573,
          -0.4024139709628827,
          0.7722474930641405,
          -0.07216398051960449,
          -0.2577623117084347,
          0.03473721087165079,
          -0.0817187752593234,
          0.1248227528168823,
          -0.03553215424970999,
          -0.032686205701441574,
          0.22337830449775545,
          0.32201680205656635,
          0.2805048295881484,
          -0.1807867221746264,
          0.42932743502458665,
          0.5557516270073105,
          0.4238262299224983,
          0.5000920238593803,
          0.19306728770771023,
          -0.02834203679611817,
          0.22699827750520038,
          -0.07874798747400776,
          0.19453879688538067,
          -0.013668397467456834,
          -0.17079097739229857,
          -0.17863022129266093,
          -0.08843109629742403,
          0.24858946018382572,
          0.3932384995209416,
          0.3994195189803509,
          -0.07051622510997418,
          0.12025922678648125,
          0.3345765317205595,
          1.0726255218994232
         ],
         "xaxis": "x",
         "y": [
          0.01689419940636574,
          -0.4178916352350507,
          -0.039132570927957286,
          -0.10030980035976661,
          0.13066862500313678,
          0.25614444009834936,
          -0.47519843006453744,
          -0.07441477451987115,
          -0.15474212579030203,
          -0.256603727052241,
          0.4093568420176841,
          -0.3868319527371335,
          -0.5072384031465451,
          -0.03449614864346243,
          0.030574071854082386,
          0.4621149799054972,
          -0.27953022165699887,
          -0.20298628082829054,
          -0.05575475585457764,
          -0.46046033356881366,
          -0.41612203945864185,
          0.045698466050777355,
          -0.15766357753842983,
          0.3714832138661521,
          -0.24149595978351768,
          -0.0005038235574424762,
          -0.2940270232822228,
          -0.36838721124489215,
          0.06538783922224883,
          -0.13122571180215264,
          -0.3814935630443564,
          -0.17034628287715517,
          -0.099385302500622,
          0.03660908562113993,
          -0.25365054685870664,
          0.06868176950179183,
          0.7049350147955425,
          0.11729860145677508,
          0.10377457099246698,
          -0.10527939558399614,
          -0.13420099872410823,
          0.5695190380390033,
          0.4128439353069641,
          -0.28432817561973117,
          -0.17271867069861208,
          -0.2796801421051957,
          0.029985313348754445,
          0.6484884517247097,
          0.28750722899315273,
          0.8412283027202614,
          0.5475102688478234,
          0.4521877372638971,
          0.35711865068987747,
          -0.020689038470924802,
          -0.033348060405764886,
          -0.1874503003956798,
          0.18176231966725398,
          0.44423652383881856,
          -0.09949942651217772,
          0.009078330622087094,
          0.03223393577300773,
          0.21413500414018238,
          0.3164048163167853,
          0.41395831820616835,
          0.23402237257971165,
          -0.12880042294717353,
          -0.22505686964848537,
          -0.09765847746074326,
          0.10635937095896451,
          -0.10265172426687871,
          -0.40373990434307955,
          -0.1701373542252757,
          -0.019497247639837352,
          -0.24937123410873857,
          -0.17287039564429604,
          -0.1615110862495228,
          -0.032950185364536665,
          0.15319701955123835,
          0.14254166057547066,
          0.3101564123406214,
          0.21798716920376396,
          -0.187831976780668,
          0.20284891816531322,
          0.35164654774186443,
          0.19910835435307353,
          -0.18533855565248422,
          -0.001148426510404499,
          -0.5072972467818258,
          -0.16306912566831383,
          -0.18078971092880772,
          0.07174492347658197,
          0.1369135150246427,
          -0.20783215782850045,
          -0.03173802560966221,
          -0.3301546745875508,
          0.02722490742136405,
          -0.16768073768624803,
          0.0746511356845295,
          0.1143802897866102,
          0.08360945862840005
         ],
         "yaxis": "y"
        }
       ],
       "layout": {
        "legend": {
         "tracegroupgap": 0
        },
        "template": {
         "data": {
          "candlestick": [
           {
            "decreasing": {
             "line": {
              "color": "#000033"
             }
            },
            "increasing": {
             "line": {
              "color": "#000032"
             }
            },
            "type": "candlestick"
           }
          ],
          "contour": [
           {
            "colorscale": [
             [
              0,
              "#000011"
             ],
             [
              0.1111111111111111,
              "#000012"
             ],
             [
              0.2222222222222222,
              "#000013"
             ],
             [
              0.3333333333333333,
              "#000014"
             ],
             [
              0.4444444444444444,
              "#000015"
             ],
             [
              0.5555555555555556,
              "#000016"
             ],
             [
              0.6666666666666666,
              "#000017"
             ],
             [
              0.7777777777777778,
              "#000018"
             ],
             [
              0.8888888888888888,
              "#000019"
             ],
             [
              1,
              "#000020"
             ]
            ],
            "type": "contour"
           }
          ],
          "contourcarpet": [
           {
            "colorscale": [
             [
              0,
              "#000011"
             ],
             [
              0.1111111111111111,
              "#000012"
             ],
             [
              0.2222222222222222,
              "#000013"
             ],
             [
              0.3333333333333333,
              "#000014"
             ],
             [
              0.4444444444444444,
              "#000015"
             ],
             [
              0.5555555555555556,
              "#000016"
             ],
             [
              0.6666666666666666,
              "#000017"
             ],
             [
              0.7777777777777778,
              "#000018"
             ],
             [
              0.8888888888888888,
              "#000019"
             ],
             [
              1,
              "#000020"
             ]
            ],
            "type": "contourcarpet"
           }
          ],
          "heatmap": [
           {
            "colorscale": [
             [
              0,
              "#000011"
             ],
             [
              0.1111111111111111,
              "#000012"
             ],
             [
              0.2222222222222222,
              "#000013"
             ],
             [
              0.3333333333333333,
              "#000014"
             ],
             [
              0.4444444444444444,
              "#000015"
             ],
             [
              0.5555555555555556,
              "#000016"
             ],
             [
              0.6666666666666666,
              "#000017"
             ],
             [
              0.7777777777777778,
              "#000018"
             ],
             [
              0.8888888888888888,
              "#000019"
             ],
             [
              1,
              "#000020"
             ]
            ],
            "type": "heatmap"
           }
          ],
          "histogram2d": [
           {
            "colorscale": [
             [
              0,
              "#000011"
             ],
             [
              0.1111111111111111,
              "#000012"
             ],
             [
              0.2222222222222222,
              "#000013"
             ],
             [
              0.3333333333333333,
              "#000014"
             ],
             [
              0.4444444444444444,
              "#000015"
             ],
             [
              0.5555555555555556,
              "#000016"
             ],
             [
              0.6666666666666666,
              "#000017"
             ],
             [
              0.7777777777777778,
              "#000018"
             ],
             [
              0.8888888888888888,
              "#000019"
             ],
             [
              1,
              "#000020"
             ]
            ],
            "type": "histogram2d"
           }
          ],
          "icicle": [
           {
            "textfont": {
             "color": "white"
            },
            "type": "icicle"
           }
          ],
          "sankey": [
           {
            "textfont": {
             "color": "#000036"
            },
            "type": "sankey"
           }
          ],
          "scatter": [
           {
            "marker": {
             "line": {
              "width": 0
             }
            },
            "type": "scatter"
           }
          ],
          "table": [
           {
            "cells": {
             "fill": {
              "color": "#000038"
             },
             "font": {
              "color": "#000037"
             },
             "line": {
              "color": "#000039"
             }
            },
            "header": {
             "fill": {
              "color": "#000040"
             },
             "font": {
              "color": "#000036"
             },
             "line": {
              "color": "#000039"
             }
            },
            "type": "table"
           }
          ],
          "waterfall": [
           {
            "connector": {
             "line": {
              "color": "#000036",
              "width": 2
             }
            },
            "decreasing": {
             "marker": {
              "color": "#000033"
             }
            },
            "increasing": {
             "marker": {
              "color": "#000032"
             }
            },
            "totals": {
             "marker": {
              "color": "#000034"
             }
            },
            "type": "waterfall"
           }
          ]
         },
         "layout": {
          "coloraxis": {
           "colorscale": [
            [
             0,
             "#000011"
            ],
            [
             0.1111111111111111,
             "#000012"
            ],
            [
             0.2222222222222222,
             "#000013"
            ],
            [
             0.3333333333333333,
             "#000014"
            ],
            [
             0.4444444444444444,
             "#000015"
            ],
            [
             0.5555555555555556,
             "#000016"
            ],
            [
             0.6666666666666666,
             "#000017"
            ],
            [
             0.7777777777777778,
             "#000018"
            ],
            [
             0.8888888888888888,
             "#000019"
            ],
            [
             1,
             "#000020"
            ]
           ]
          },
          "colorscale": {
           "diverging": [
            [
             0,
             "#000021"
            ],
            [
             0.1,
             "#000022"
            ],
            [
             0.2,
             "#000023"
            ],
            [
             0.3,
             "#000024"
            ],
            [
             0.4,
             "#000025"
            ],
            [
             0.5,
             "#000026"
            ],
            [
             0.6,
             "#000027"
            ],
            [
             0.7,
             "#000028"
            ],
            [
             0.8,
             "#000029"
            ],
            [
             0.9,
             "#000030"
            ],
            [
             1,
             "#000031"
            ]
           ],
           "sequential": [
            [
             0,
             "#000011"
            ],
            [
             0.1111111111111111,
             "#000012"
            ],
            [
             0.2222222222222222,
             "#000013"
            ],
            [
             0.3333333333333333,
             "#000014"
            ],
            [
             0.4444444444444444,
             "#000015"
            ],
            [
             0.5555555555555556,
             "#000016"
            ],
            [
             0.6666666666666666,
             "#000017"
            ],
            [
             0.7777777777777778,
             "#000018"
            ],
            [
             0.8888888888888888,
             "#000019"
            ],
            [
             1,
             "#000020"
            ]
           ],
           "sequentialminus": [
            [
             0,
             "#000011"
            ],
            [
             0.1111111111111111,
             "#000012"
            ],
            [
             0.2222222222222222,
             "#000013"
            ],
            [
             0.3333333333333333,
             "#000014"
            ],
            [
             0.4444444444444444,
             "#000015"
            ],
            [
             0.5555555555555556,
             "#000016"
            ],
            [
             0.6666666666666666,
             "#000017"
            ],
            [
             0.7777777777777778,
             "#000018"
            ],
            [
             0.8888888888888888,
             "#000019"
            ],
            [
             1,
             "#000020"
            ]
           ]
          },
          "colorway": [
           "#000001",
           "#000002",
           "#000003",
           "#000004",
           "#000005",
           "#000006",
           "#000007",
           "#000008",
           "#000009",
           "#000010"
          ]
         }
        },
        "title": {
         "text": "PCA"
        },
        "xaxis": {
         "anchor": "y",
         "domain": [
          0,
          1
         ],
         "title": {
          "text": "x"
         }
        },
        "yaxis": {
         "anchor": "x",
         "domain": [
          0,
          1
         ],
         "title": {
          "text": "y"
         }
        }
       }
      }
     },
     "metadata": {},
     "output_type": "display_data"
    }
   ],
   "source": [
    "# Lakukan PCA untuk mengurangi jumlah fitur menjadi 2 fitur saja\n",
    "pca = PCA(n_components=2)\n",
    "pca.fit(data2)\n",
    "pca_data = pca.transform(data2)\n",
    "\n",
    "# buat dataframe dari hasil pca\n",
    "pca_df = pd.DataFrame(data=pca_data, columns=['x', 'y'])\n",
    "pca_df.head()\n",
    "\n",
    "# plot pca_df using plotly\n",
    "fig = px.scatter(pca_df, x='x', y='y', title='PCA')\n",
    "fig.show()"
   ]
  },
  {
   "attachments": {},
   "cell_type": "markdown",
   "metadata": {},
   "source": [
    "# Clustering\n",
    "Clustering adalah proses pengelompokan data atau objek-objek serupa menjadi kelompok-kelompok yang lebih homogen berdasarkan kesamaan fitur atau karakteristik tertentu.\n",
    "\n",
    "## K-Means\n",
    "Algoritma k-means adalah metode clustering yang mengelompokkan data menjadi beberapa kelompok berdasarkan jaraknya ke pusat kelompok yang ditentukan secara iteratif.\n",
    "\n",
    "Berikut ini penjelasan langkah-langkah algoritma clustering k-means:\n",
    "\n",
    "1. Inisialisasi: Secara acak, pilih K titik data awal sebagai pusat-pusat awal (centroid). Pusat-pusat ini mewakili titik-titik pusat kelompok awal.\n",
    "\n",
    "2. Penugasan: Untuk setiap titik data dalam himpunan data, hitung jarak antara titik tersebut dengan setiap pusat. Berikan titik data ke kelompok yang memiliki pusat terdekat dengan titik tersebut. Langkah ini biasanya menggunakan jarak Euclidean, tetapi bisa juga menggunakan metrik jarak lainnya.\n",
    "\n",
    "3. Pembaruan: Setelah mengalokasikan semua titik data ke dalam kelompok-kelompok, hitung kembali pusat kelompok (centroid) dari setiap kelompok. Pusat kelompok dihitung sebagai nilai rata-rata dari semua titik data yang termasuk dalam kelompok tersebut.\n",
    "\n",
    "4. Iterasi: Ulangi langkah penugasan dan pembaruan secara berulang hingga konvergensi. Konvergensi terjadi ketika penugasan titik-titik data ke kelompok-kelompok tidak berubah lagi atau ketika mencapai batas iterasi maksimum yang telah ditentukan sebelumnya.\n",
    "\n",
    "5. Hasil Akhir: Setelah algoritma konvergen, titik-titik data dikelompokkan ke dalam K kelompok yang berbeda. Setiap titik data termasuk dalam kelompok yang memiliki pusat terdekat dengan titik tersebut.\n",
    "\n"
   ]
  },
  {
   "cell_type": "code",
   "execution_count": 12,
   "metadata": {},
   "outputs": [
    {
     "data": {
      "application/vnd.plotly.v1+json": {
       "config": {
        "plotlyServerURL": "https://plot.ly"
       },
       "data": [
        {
         "customdata": [
          [
           "Jean Grae",
           "Threats"
          ],
          [
           "Sa-Roc",
           "Queen's Philosophy"
          ],
          [
           "Black Thought",
           "9th vs. Thought"
          ],
          [
           "Talib Kweli",
           "Get By"
          ],
          [
           "Sa-Roc",
           "We Comin"
          ],
          [
           "Gift Of Gab",
           "Freedom Form Flowing"
          ],
          [
           "Sa-Roc",
           "Hood Supreme"
          ],
          [
           "Sa-Roc",
           "Maximum Frequency"
          ],
          [
           "Talib Kweli",
           "Never Been In Love"
          ],
          [
           "Sa-Roc",
           "Eye of the Phoenix"
          ],
          [
           "Avenged Sevenfold",
           "Nightmare"
          ],
          [
           "Talib Kweli",
           "Ms. Hill"
          ],
          [
           "Sa-Roc",
           "End of the World"
          ],
          [
           "Sa-Roc",
           "NSFW (Not Safe For Weak Rappers)"
          ],
          [
           "Sa-Roc",
           "Legendary"
          ],
          [
           "Avenged Sevenfold",
           "Blinded in Chains"
          ],
          [
           "Sa-Roc",
           "The Moors of Alhambra"
          ],
          [
           "Sa-Roc",
           "Lilith's Psalm"
          ],
          [
           "Sa-Roc",
           "MetaMorpheus"
          ],
          [
           "Sa-Roc",
           "WWII (Word War II)"
          ],
          [
           "MC Breed",
           "Gotta Get Mine"
          ],
          [
           "Vinnie Paz",
           "Battle Hymn"
          ],
          [
           "Apathy",
           "Pay Your Dues"
          ],
          [
           "Dilated Peoples",
           "Kindness For Weakness"
          ],
          [
           "Jedi Mind Tricks",
           "Blood Runs Cold"
          ],
          [
           "Afu-Ra",
           "Equality"
          ],
          [
           "Cunninlynguists",
           "Nothing but Strangeness (feat. Looptroop Rockers & Hilltop Hoods)"
          ],
          [
           "Dag Savage",
           "When It Rains (feat. Aloe Blacc)"
          ],
          [
           "Citizen Cope",
           "Let The Drummer Kick"
          ],
          [
           "Evidence",
           "Late For The Sky (feat. Slug & Aesop Rock)"
          ],
          [
           "Geto Boys",
           "Mind Playing Tricks on Me"
          ],
          [
           "Sweatshop Union",
           "Oh My"
          ],
          [
           "R.A. The Rugged Man",
           "Definition Of A Rap Flow (Albee 3000)"
          ],
          [
           "Jedi Mind Tricks",
           "Suicide"
          ],
          [
           "Immortal Technique",
           "Point Of No Return"
          ],
          [
           "Cunninlynguists",
           "Guide You Through Shadows (feat. Ra Scion & Substantial)"
          ],
          [
           "Jedi Mind Tricks",
           "Fraudulent Cloth"
          ],
          [
           "PaceWon & Mr. Green",
           "Children Sing"
          ],
          [
           "Cunninlynguists",
           "Enemies With Benefits F. Tonedeff"
          ],
          [
           "Immortal Technique",
           "Freedom Of Speech"
          ],
          [
           "Cunninlynguists",
           "Beyond the Sun (feat. J Live)"
          ],
          [
           "Atmosphere",
           "Pour Me Another"
          ],
          [
           "Jedi Mind Tricks",
           "Razorblade Salvation"
          ],
          [
           "Cunninlynguists",
           "Love Ain't (f. Tonedeff) [Deluxe Edition]"
          ],
          [
           "Jedi Mind Tricks",
           "Uncommon Valor: A Vietnam Story"
          ],
          [
           "Sol",
           "2020"
          ],
          [
           "Marcus D",
           "Melancholy Hopeful"
          ],
          [
           "Cunninlynguists",
           "Stars Shine Brightest (In The Darkest Of Night) F. Rick Warren"
          ],
          [
           "Gorillaz",
           "El Ma\\xc3\\xb1ana"
          ],
          [
           "The Strokes",
           "Reptilia"
          ],
          [
           "Gorillaz",
           "Dirty Harry"
          ],
          [
           "Uyama Hiroto",
           "Soul Of Freedom feat. Cise Starr"
          ],
          [
           "Awon",
           "Take Time"
          ],
          [
           "SoulChef",
           "When I Close My Eyes"
          ],
          [
           "SoulChef",
           "Say Somethin'"
          ],
          [
           "Common Market",
           "Swell"
          ],
          [
           "Idealism",
           "nagashi"
          ],
          [
           "Birocratic",
           "Boys\\xe2\\x80\\x99 Bop"
          ],
          [
           "DANGERDOOM",
           "Benzi Box"
          ],
          [
           "The Grouch & Eligh",
           "Comin' Up (feat. Mistah F.A.B.)"
          ],
          [
           "The White Stripes",
           "Seven Nation Army"
          ],
          [
           "Gorillaz",
           "Some Kind of Nature (feat. Lou Reed)"
          ],
          [
           "Gorillaz",
           "Clint Eastwood"
          ],
          [
           "MGMT",
           "Time to Pretend"
          ],
          [
           "STRFKR",
           "Rawnald Gregory Erickson the Second"
          ],
          [
           "MF DOOM",
           "Rapp Snitch Knishes feat. Mr. Fantastik"
          ],
          [
           "Gorillaz",
           "November Has Come"
          ],
          [
           "Cunninlynguists",
           "Beautiful Girl"
          ],
          [
           "Emancipator",
           "Black Lake"
          ],
          [
           "The Grouch",
           "THE POSSE"
          ],
          [
           "People Under The Stairs",
           "Anotha' (BBQ)"
          ],
          [
           "Lyrics Born",
           "Before and After"
          ],
          [
           "Collective Efforts",
           "So Cold"
          ],
          [
           "People Under The Stairs",
           "Pictures On My Wall"
          ],
          [
           "Brother Ali",
           "The Travelers"
          ],
          [
           "Blue Scholars",
           "Motion Movement"
          ],
          [
           "Zion I",
           "Antenna"
          ],
          [
           "Marvin Gaye",
           "Sexual Healing - Kygo Remix"
          ],
          [
           "Earth, Wind & Fire",
           "Let's Groove"
          ],
          [
           "Michael Jackson",
           "Don't Stop 'Til You Get Enough - 2003 Edit"
          ],
          [
           "Marvin Gaye",
           "Ain't No Mountain High Enough"
          ],
          [
           "Bill Withers",
           "Ain't No Sunshine"
          ],
          [
           "The Temptations",
           "Ain't Too Proud To Beg"
          ],
          [
           "Daryl Hall & John Oates",
           "You Make My Dreams (Come True)"
          ],
          [
           "Michael Jackson",
           "Billie Jean"
          ],
          [
           "Sweatshop Union",
           "Close to Home"
          ],
          [
           "Deltron 3030",
           "Mastermind"
          ],
          [
           "The Dynospectrum",
           "Anything Is Everything"
          ],
          [
           "Kenichiro Nishihara",
           "believe"
          ],
          [
           "Grieves",
           "Sunny Side Of Hell"
          ],
          [
           "Murs",
           "Everything"
          ],
          [
           "Grieves",
           "On The Rocks"
          ],
          [
           "Common Market",
           "Slow Cure"
          ],
          [
           "Collective Efforts",
           "This Far"
          ],
          [
           "Brother Ali",
           "Walking Away"
          ],
          [
           "Atmosphere",
           "The Best Day"
          ],
          [
           "Blue Scholars",
           "Southside Revival"
          ],
          [
           "Sweatshop Union",
           "The Humans' race"
          ],
          [
           "Cunninlynguists",
           "Mic Like a Memory [Deluxe Edition] (feat. Kory Calico)"
          ],
          [
           "Emancipator",
           "Soon It Will Be Cold Enough to Build Fires"
          ]
         ],
         "hovertemplate": "x=%{x}<br>y=%{y}<br>hover_data_0=%{customdata[0]}<br>hover_data_1=%{customdata[1]}<br>color=%{marker.color}<extra></extra>",
         "legendgroup": "",
         "marker": {
          "color": [
           3,
           6,
           4,
           4,
           4,
           1,
           2,
           4,
           6,
           2,
           5,
           2,
           2,
           4,
           4,
           5,
           4,
           6,
           4,
           4,
           6,
           4,
           2,
           5,
           2,
           4,
           6,
           2,
           3,
           4,
           6,
           0,
           2,
           1,
           2,
           3,
           5,
           1,
           1,
           3,
           3,
           5,
           7,
           2,
           2,
           6,
           3,
           5,
           1,
           7,
           5,
           7,
           7,
           3,
           3,
           6,
           0,
           7,
           3,
           3,
           3,
           7,
           1,
           5,
           0,
           2,
           6,
           4,
           0,
           2,
           2,
           6,
           1,
           6,
           2,
           2,
           3,
           3,
           3,
           1,
           7,
           0,
           7,
           7,
           7,
           2,
           3,
           2,
           6,
           2,
           1,
           1,
           2,
           3,
           6,
           3,
           2,
           3,
           3,
           0
          ],
          "coloraxis": "coloraxis",
          "symbol": "circle"
         },
         "mode": "markers",
         "name": "",
         "orientation": "v",
         "showlegend": false,
         "type": "scatter",
         "x": [
          0.1359720421090195,
          0.05074051602090565,
          -0.38668550313139416,
          -0.4539583001641539,
          -0.7095366359692206,
          -0.18835350779020318,
          -0.2844124670268119,
          -0.5523131046484486,
          0.055277878953341894,
          -0.09736881934744475,
          -0.3426570284102757,
          -0.35723939055157966,
          -0.043628959568030486,
          -0.47365889834565106,
          -0.4501176647521103,
          -0.37012740142445005,
          -0.5313452305214212,
          0.25244021756048873,
          -0.47406851230816655,
          -0.5075612703431549,
          0.2929372923413671,
          -0.3859400043120029,
          -0.17660331257637166,
          -0.5705450943498728,
          -0.20147820528898283,
          -0.32166782445033937,
          0.13721010224154617,
          -0.051514088220340225,
          0.17324099370767246,
          -0.7562770400351462,
          0.3542176054973479,
          0.6065916910512437,
          -0.1113299121667416,
          -0.21924775209243186,
          -0.2915464336934041,
          0.03426817355757638,
          -0.44921887960217344,
          -0.32102351136929164,
          -0.19214525808805782,
          0.2013038307572889,
          0.248167827346132,
          -0.5487448589112779,
          0.06392908917849162,
          -0.15016951795364974,
          -0.274584615498399,
          0.08159657589750773,
          0.06399756535832764,
          -0.31241466855294214,
          -0.06218210140450924,
          0.19618551968419637,
          -0.47254235744417106,
          0.36896688274049383,
          0.2557289623280655,
          0.27910463815491016,
          0.34294434972429183,
          0.17913017024958905,
          1.1255075174119495,
          0.13521887507058603,
          0.4699177168179113,
          0.20286014287812962,
          0.22079623451304176,
          0.17714912219302814,
          -0.05850605344552535,
          -0.32661169617160307,
          0.6453506354620424,
          -0.18646278097381394,
          0.15520972460424573,
          -0.4024139709628827,
          0.7722474930641405,
          -0.07216398051960449,
          -0.2577623117084347,
          0.03473721087165079,
          -0.0817187752593234,
          0.1248227528168823,
          -0.03553215424970999,
          -0.032686205701441574,
          0.22337830449775545,
          0.32201680205656635,
          0.2805048295881484,
          -0.1807867221746264,
          0.42932743502458665,
          0.5557516270073105,
          0.4238262299224983,
          0.5000920238593803,
          0.19306728770771023,
          -0.02834203679611817,
          0.22699827750520038,
          -0.07874798747400776,
          0.19453879688538067,
          -0.013668397467456834,
          -0.17079097739229857,
          -0.17863022129266093,
          -0.08843109629742403,
          0.24858946018382572,
          0.3932384995209416,
          0.3994195189803509,
          -0.07051622510997418,
          0.12025922678648125,
          0.3345765317205595,
          1.0726255218994232
         ],
         "xaxis": "x",
         "y": [
          0.01689419940636574,
          -0.4178916352350507,
          -0.039132570927957286,
          -0.10030980035976661,
          0.13066862500313678,
          0.25614444009834936,
          -0.47519843006453744,
          -0.07441477451987115,
          -0.15474212579030203,
          -0.256603727052241,
          0.4093568420176841,
          -0.3868319527371335,
          -0.5072384031465451,
          -0.03449614864346243,
          0.030574071854082386,
          0.4621149799054972,
          -0.27953022165699887,
          -0.20298628082829054,
          -0.05575475585457764,
          -0.46046033356881366,
          -0.41612203945864185,
          0.045698466050777355,
          -0.15766357753842983,
          0.3714832138661521,
          -0.24149595978351768,
          -0.0005038235574424762,
          -0.2940270232822228,
          -0.36838721124489215,
          0.06538783922224883,
          -0.13122571180215264,
          -0.3814935630443564,
          -0.17034628287715517,
          -0.099385302500622,
          0.03660908562113993,
          -0.25365054685870664,
          0.06868176950179183,
          0.7049350147955425,
          0.11729860145677508,
          0.10377457099246698,
          -0.10527939558399614,
          -0.13420099872410823,
          0.5695190380390033,
          0.4128439353069641,
          -0.28432817561973117,
          -0.17271867069861208,
          -0.2796801421051957,
          0.029985313348754445,
          0.6484884517247097,
          0.28750722899315273,
          0.8412283027202614,
          0.5475102688478234,
          0.4521877372638971,
          0.35711865068987747,
          -0.020689038470924802,
          -0.033348060405764886,
          -0.1874503003956798,
          0.18176231966725398,
          0.44423652383881856,
          -0.09949942651217772,
          0.009078330622087094,
          0.03223393577300773,
          0.21413500414018238,
          0.3164048163167853,
          0.41395831820616835,
          0.23402237257971165,
          -0.12880042294717353,
          -0.22505686964848537,
          -0.09765847746074326,
          0.10635937095896451,
          -0.10265172426687871,
          -0.40373990434307955,
          -0.1701373542252757,
          -0.019497247639837352,
          -0.24937123410873857,
          -0.17287039564429604,
          -0.1615110862495228,
          -0.032950185364536665,
          0.15319701955123835,
          0.14254166057547066,
          0.3101564123406214,
          0.21798716920376396,
          -0.187831976780668,
          0.20284891816531322,
          0.35164654774186443,
          0.19910835435307353,
          -0.18533855565248422,
          -0.001148426510404499,
          -0.5072972467818258,
          -0.16306912566831383,
          -0.18078971092880772,
          0.07174492347658197,
          0.1369135150246427,
          -0.20783215782850045,
          -0.03173802560966221,
          -0.3301546745875508,
          0.02722490742136405,
          -0.16768073768624803,
          0.0746511356845295,
          0.1143802897866102,
          0.08360945862840005
         ],
         "yaxis": "y"
        }
       ],
       "layout": {
        "coloraxis": {
         "colorbar": {
          "title": {
           "text": "color"
          }
         },
         "colorscale": [
          [
           0,
           "rgb(150,0,90)"
          ],
          [
           0.125,
           "rgb(0,0,200)"
          ],
          [
           0.25,
           "rgb(0,25,255)"
          ],
          [
           0.375,
           "rgb(0,152,255)"
          ],
          [
           0.5,
           "rgb(44,255,150)"
          ],
          [
           0.625,
           "rgb(151,255,0)"
          ],
          [
           0.75,
           "rgb(255,234,0)"
          ],
          [
           0.875,
           "rgb(255,111,0)"
          ],
          [
           1,
           "rgb(255,0,0)"
          ]
         ]
        },
        "legend": {
         "tracegroupgap": 0
        },
        "margin": {
         "t": 60
        },
        "template": {
         "data": {
          "candlestick": [
           {
            "decreasing": {
             "line": {
              "color": "#000033"
             }
            },
            "increasing": {
             "line": {
              "color": "#000032"
             }
            },
            "type": "candlestick"
           }
          ],
          "contour": [
           {
            "colorscale": [
             [
              0,
              "#000011"
             ],
             [
              0.1111111111111111,
              "#000012"
             ],
             [
              0.2222222222222222,
              "#000013"
             ],
             [
              0.3333333333333333,
              "#000014"
             ],
             [
              0.4444444444444444,
              "#000015"
             ],
             [
              0.5555555555555556,
              "#000016"
             ],
             [
              0.6666666666666666,
              "#000017"
             ],
             [
              0.7777777777777778,
              "#000018"
             ],
             [
              0.8888888888888888,
              "#000019"
             ],
             [
              1,
              "#000020"
             ]
            ],
            "type": "contour"
           }
          ],
          "contourcarpet": [
           {
            "colorscale": [
             [
              0,
              "#000011"
             ],
             [
              0.1111111111111111,
              "#000012"
             ],
             [
              0.2222222222222222,
              "#000013"
             ],
             [
              0.3333333333333333,
              "#000014"
             ],
             [
              0.4444444444444444,
              "#000015"
             ],
             [
              0.5555555555555556,
              "#000016"
             ],
             [
              0.6666666666666666,
              "#000017"
             ],
             [
              0.7777777777777778,
              "#000018"
             ],
             [
              0.8888888888888888,
              "#000019"
             ],
             [
              1,
              "#000020"
             ]
            ],
            "type": "contourcarpet"
           }
          ],
          "heatmap": [
           {
            "colorscale": [
             [
              0,
              "#000011"
             ],
             [
              0.1111111111111111,
              "#000012"
             ],
             [
              0.2222222222222222,
              "#000013"
             ],
             [
              0.3333333333333333,
              "#000014"
             ],
             [
              0.4444444444444444,
              "#000015"
             ],
             [
              0.5555555555555556,
              "#000016"
             ],
             [
              0.6666666666666666,
              "#000017"
             ],
             [
              0.7777777777777778,
              "#000018"
             ],
             [
              0.8888888888888888,
              "#000019"
             ],
             [
              1,
              "#000020"
             ]
            ],
            "type": "heatmap"
           }
          ],
          "histogram2d": [
           {
            "colorscale": [
             [
              0,
              "#000011"
             ],
             [
              0.1111111111111111,
              "#000012"
             ],
             [
              0.2222222222222222,
              "#000013"
             ],
             [
              0.3333333333333333,
              "#000014"
             ],
             [
              0.4444444444444444,
              "#000015"
             ],
             [
              0.5555555555555556,
              "#000016"
             ],
             [
              0.6666666666666666,
              "#000017"
             ],
             [
              0.7777777777777778,
              "#000018"
             ],
             [
              0.8888888888888888,
              "#000019"
             ],
             [
              1,
              "#000020"
             ]
            ],
            "type": "histogram2d"
           }
          ],
          "icicle": [
           {
            "textfont": {
             "color": "white"
            },
            "type": "icicle"
           }
          ],
          "sankey": [
           {
            "textfont": {
             "color": "#000036"
            },
            "type": "sankey"
           }
          ],
          "scatter": [
           {
            "marker": {
             "line": {
              "width": 0
             }
            },
            "type": "scatter"
           }
          ],
          "table": [
           {
            "cells": {
             "fill": {
              "color": "#000038"
             },
             "font": {
              "color": "#000037"
             },
             "line": {
              "color": "#000039"
             }
            },
            "header": {
             "fill": {
              "color": "#000040"
             },
             "font": {
              "color": "#000036"
             },
             "line": {
              "color": "#000039"
             }
            },
            "type": "table"
           }
          ],
          "waterfall": [
           {
            "connector": {
             "line": {
              "color": "#000036",
              "width": 2
             }
            },
            "decreasing": {
             "marker": {
              "color": "#000033"
             }
            },
            "increasing": {
             "marker": {
              "color": "#000032"
             }
            },
            "totals": {
             "marker": {
              "color": "#000034"
             }
            },
            "type": "waterfall"
           }
          ]
         },
         "layout": {
          "coloraxis": {
           "colorscale": [
            [
             0,
             "#000011"
            ],
            [
             0.1111111111111111,
             "#000012"
            ],
            [
             0.2222222222222222,
             "#000013"
            ],
            [
             0.3333333333333333,
             "#000014"
            ],
            [
             0.4444444444444444,
             "#000015"
            ],
            [
             0.5555555555555556,
             "#000016"
            ],
            [
             0.6666666666666666,
             "#000017"
            ],
            [
             0.7777777777777778,
             "#000018"
            ],
            [
             0.8888888888888888,
             "#000019"
            ],
            [
             1,
             "#000020"
            ]
           ]
          },
          "colorscale": {
           "diverging": [
            [
             0,
             "#000021"
            ],
            [
             0.1,
             "#000022"
            ],
            [
             0.2,
             "#000023"
            ],
            [
             0.3,
             "#000024"
            ],
            [
             0.4,
             "#000025"
            ],
            [
             0.5,
             "#000026"
            ],
            [
             0.6,
             "#000027"
            ],
            [
             0.7,
             "#000028"
            ],
            [
             0.8,
             "#000029"
            ],
            [
             0.9,
             "#000030"
            ],
            [
             1,
             "#000031"
            ]
           ],
           "sequential": [
            [
             0,
             "#000011"
            ],
            [
             0.1111111111111111,
             "#000012"
            ],
            [
             0.2222222222222222,
             "#000013"
            ],
            [
             0.3333333333333333,
             "#000014"
            ],
            [
             0.4444444444444444,
             "#000015"
            ],
            [
             0.5555555555555556,
             "#000016"
            ],
            [
             0.6666666666666666,
             "#000017"
            ],
            [
             0.7777777777777778,
             "#000018"
            ],
            [
             0.8888888888888888,
             "#000019"
            ],
            [
             1,
             "#000020"
            ]
           ],
           "sequentialminus": [
            [
             0,
             "#000011"
            ],
            [
             0.1111111111111111,
             "#000012"
            ],
            [
             0.2222222222222222,
             "#000013"
            ],
            [
             0.3333333333333333,
             "#000014"
            ],
            [
             0.4444444444444444,
             "#000015"
            ],
            [
             0.5555555555555556,
             "#000016"
            ],
            [
             0.6666666666666666,
             "#000017"
            ],
            [
             0.7777777777777778,
             "#000018"
            ],
            [
             0.8888888888888888,
             "#000019"
            ],
            [
             1,
             "#000020"
            ]
           ]
          },
          "colorway": [
           "#000001",
           "#000002",
           "#000003",
           "#000004",
           "#000005",
           "#000006",
           "#000007",
           "#000008",
           "#000009",
           "#000010"
          ]
         }
        },
        "xaxis": {
         "anchor": "y",
         "domain": [
          0,
          1
         ],
         "title": {
          "text": "x"
         }
        },
        "yaxis": {
         "anchor": "x",
         "domain": [
          0,
          1
         ],
         "title": {
          "text": "y"
         }
        }
       }
      }
     },
     "metadata": {},
     "output_type": "display_data"
    }
   ],
   "source": [
    "# rubah bentuk data ke list \n",
    "data2 = list(zip(pca_df['x'], pca_df['y']))\n",
    "\n",
    "# fit kmeans model\n",
    "kmeans = KMeans(n_init=10, max_iter=1000).fit(data2)\n",
    "\n",
    "# make scatter plot using plotly\n",
    "fig = px.scatter(pca_df, x='x', y='y', color=kmeans.labels_, color_continuous_scale='rainbow', hover_data=[data.artist, data.name])\n",
    "fig.show()"
   ]
  },
  {
   "attachments": {},
   "cell_type": "markdown",
   "metadata": {},
   "source": [
    "Kita menggunakan library sklearn dengan function sklearn.cluster.KMeans\n",
    "Function ini mempunyai beberapa parameter, antara lain \n",
    "- **n_clusters**, jumlah cluster yang dipilih. Jika tidak diisi maka cluster akan di generate secara otomatis, tergantung fitur datanya.\n",
    "- **n_init or init**, berapa kali algoritma akan dijalankan menggunakan awalan (seed) centroid yang berbeda. nilai default dari n_init adalah 10, sedangkan untuk init adalah 1\n",
    "- **max_iter**, jumlah iterasi dari algoritma k-means yang dijalankan setiap run\n",
    "- **tol**, singkatan dari *tolerance*, adalah toleransi relatif untuk menyatakan konvergensi. nilai lebih besar berarti lebih banyak konvergensi.\n",
    "- **verbose**, jika true code akan menghasilkan statistik detil\n",
    "- **random_state**, Menentukan pembangkitan angka acak untuk inisialisasi pusat klaster. Gunakan bilangan bulat (int) untuk membuat randomness menjadi deterministik.\n",
    "- **copy_x**, jika false, data asli akan diubah sedikit untuk mempercepat proses training. Jika true maka data tidak diubah.\n",
    "- **algorithm**, menentukan algoritma k-means yang akan digunakan. default adalah 'lloyd'. Variasi 'elkan' lebih efisien untuk data clustering yang nilainya sangat jelas.\n",
    "\n",
    "Parameter yang kita gunakan adalah **n_init=10** untuk menambah konsistensi hasil dan **max_iter=1000** untuk menambah akurasi clustering. "
   ]
  },
  {
   "attachments": {},
   "cell_type": "markdown",
   "metadata": {},
   "source": [
    "# Kesimpulan\n",
    "\n",
    "Untuk project machine learning clustering ini, kita menggunakan dataset lagu yang diambil dari spotify. \n",
    "\n",
    "Untuk melakukan proses pengambilan lagu, kita membutuhkan akses API dari spotify. Pertama kita harus mendaftar sebagai spotify developer di web resmi spotify. Lalu kita mengambil sebuah token menggunakan kredensial yang kita dapat dari akun developer kita. Sebuah token memungkinkan kita untuk mengambil data dari spotify web API secara langsung. user menginput url playlist dan aplikasi akan mengambil semua lagu didalam playlist tersebut dan membuat dataset secara otomatis. \n",
    "\n",
    "Dataset yang dihasilkan sudah cukup solid karena spotify web API memang dikenal mempunyai kualitas tinggi. Namun kita tetap melakukan pengecekan konsistensi data. Ketika data diambil dari web, beberapa lagu/artist mempunyai karakter yang tidak dapat ditampilkan seperti huruf kanji, maka kita harus encode-decode karakter tersebut ke standar utf-8. Namun terkadang proses dari encode-decode menghasilkan sebuah string kosong. Walaupun fitur yang lain tidak kosong, data ini tidak bisa kita identifikasi, jadi kita akan hapus data ini.\n",
    "\n",
    "Setelah di preproses, kita akan melakukan proses dimensionality reduction menggunakan principal component analysis (PCA). Proses clustering menggunakan scatter plot mengharuskan data mempunyai 2 fitur. Tujuan dari proses PCA adalah mengurangi jumlah fitur dari 9 menjadi 2 tanpa mengurangi makna yang ada didalam dataset. \n",
    "\n",
    "Kita melakukan clustering dataset menggunakan algoritma K-Means dengan titik cluster yang diatur secara otomatis. Adapun parameter yang kita masukkan ke algoritma yaitu **n_init=10** untuk menambah konsistensi hasil dan **max_iter=1000** untuk menambah akurasi clustering. \n",
    "\n",
    "Hasilnya dataset terbagi menjadi 7 buah cluster (secara otomatis), dan masing masing lagu di dalam cluster mempunyai keunikan tersendiri. Keunikan tersebut dapat direpresentasikan dengan tempo lagu, jenis melodi, jenis instrumen, overall 'vibe' dari lagu, dan lain lain. Jumlah cluster dapat diatur menggunakan parameter **n_cluster**. "
   ]
  },
  {
   "attachments": {},
   "cell_type": "markdown",
   "metadata": {},
   "source": [
    "# Deploy ke Streamlit\n",
    "Streamlit adalah framework open-source untuk mengembangkan aplikasi web interaktif dengan menggunakan bahasa pemrograman Python.\n",
    "Tujuannya adalah menyederhanakan proses pembuatan aplikasi web dengan memungkinkan pengembang untuk membuat aplikasi dengan mudah menggunakan kode Python yang sederhana dan familiar.\n",
    "\n",
    "## Buat file bernama streamlit_app.py\n",
    "Langkah pertama adalah membuat sebuah file baru bernama streamlit_app.py. Kita akan masukkan semua koding yang telah kita buat sebelumnya ke dalam satu file ini.  \n",
    "Kita telah membahas proses pengambilan dataset, dan telah dijelaskan bahwa kita harus membuat beberapa fungsi seperti getToken(), getPlaylistItems().  Masukkan semua fungsi-fungsi tersebut ke dalam file streamlit_app.py.  \n",
    "Selain itu, pada bab data preprocessing, terdapat banyak potongan code untuk pemrosesan data. Masukkan semua potongan code tersebut ke dalam sebuah function bernama dataProcessing().  \n",
    "Akhirnya, berikut fungsi-fungsi yang ada di dalam streamlit_app.py:  \n",
    "- **getToken()**, untuk mengambil token\n",
    "- **getAuthHeader()**, untuk mengisi header request dengan token yang didapat\n",
    "- **getAudioFeatures()**, untuk mendapatkan data karakteristik lagu\n",
    "- **getPlaylistItems()**, untuk mengambil lagu-lagu yang ada di dalam playlist\n",
    "- **dataProcessing()**, untuk memproses dataset dan menghasilkan clustering\n",
    "\n",
    "## Upload ke github repository\n",
    "Jika semua coding sudah selesai, maka kita harus meng-upload semua coding kita ke github. \n",
    "- login ke github\n",
    "- di dashboard github, klik `New` untuk membuat repository baru\n",
    "- beri nama repositori, deskripsi, dan **pastikan bahwa repository bersifat public**. Lalu klik create repository\n",
    "- kembali ke code editor, masukkan file streamlit_app.py ke dalam folder\n",
    "- ketik `git init`\n",
    "- ketik `git add .`\n",
    "- ketik `git remote add origin https://github.com/[username]/[repository_name].git` contohnya g\n",
    "\n",
    "## Buat Akun Streamlit\n",
    "- Pergi ke streamlit.io\n",
    "- Buat akun/masuk menggunakan akun\n",
    "- Sangat direkomendasikan masuk menggunakan akun github\n",
    "\n",
    "## Create new app"
   ]
  }
 ],
 "metadata": {
  "kernelspec": {
   "display_name": "Python 3",
   "language": "python",
   "name": "python3"
  },
  "language_info": {
   "codemirror_mode": {
    "name": "ipython",
    "version": 3
   },
   "file_extension": ".py",
   "mimetype": "text/x-python",
   "name": "python",
   "nbconvert_exporter": "python",
   "pygments_lexer": "ipython3",
   "version": "3.10.11"
  },
  "orig_nbformat": 4
 },
 "nbformat": 4,
 "nbformat_minor": 2
}
